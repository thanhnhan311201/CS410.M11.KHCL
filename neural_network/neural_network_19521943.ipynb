{
  "nbformat": 4,
  "nbformat_minor": 0,
  "metadata": {
    "colab": {
      "name": "neural_network_19521943.ipynb",
      "provenance": [],
      "collapsed_sections": [],
      "toc_visible": true
    },
    "kernelspec": {
      "name": "python3",
      "display_name": "Python 3"
    },
    "language_info": {
      "name": "python"
    },
    "accelerator": "GPU"
  },
  "cells": [
    {
      "cell_type": "markdown",
      "source": [
        "<h2><b>Họ và tên:</b> Phan Nguyễn Thành Nhân</h2>\n",
        "<h2><b>MSSV:</b> 19521943</h2>\n",
        "<h2><b>Lớp:</b> CS410.M11.KHCL</h2>"
      ],
      "metadata": {
        "id": "c3Be2sMsHmaX"
      }
    },
    {
      "cell_type": "markdown",
      "source": [
        "# Import necessary libraries"
      ],
      "metadata": {
        "id": "gKN1nI_gIaTa"
      }
    },
    {
      "cell_type": "code",
      "execution_count": 1,
      "metadata": {
        "id": "4oiakWUaHZaa"
      },
      "outputs": [],
      "source": [
        "import random\n",
        "import numpy as np\n",
        "import matplotlib.pyplot as plt\n",
        "\n",
        "import torch\n",
        "import torch.nn as nn\n",
        "import torch.nn.functional as F\n",
        "import torch.optim as optim\n",
        "from torch.utils.data import DataLoader\n",
        "import torchvision.datasets as datasets\n",
        "import torchvision.transforms as transforms"
      ]
    },
    {
      "cell_type": "markdown",
      "source": [
        "# Check whether we are using ’GPU’ or ’CPU’"
      ],
      "metadata": {
        "id": "7gW7HoqXJG4t"
      }
    },
    {
      "cell_type": "code",
      "source": [
        "device = torch.device('cuda' if torch.cuda.is_available() else 'cpu')\n",
        "print(device)"
      ],
      "metadata": {
        "colab": {
          "base_uri": "https://localhost:8080/"
        },
        "id": "VeIzgwekIxmQ",
        "outputId": "d145bd07-b0e8-4fa8-b095-531fbbb80b54"
      },
      "execution_count": 2,
      "outputs": [
        {
          "output_type": "stream",
          "name": "stdout",
          "text": [
            "cuda\n"
          ]
        }
      ]
    },
    {
      "cell_type": "markdown",
      "source": [
        "In this notebook, I'll experiment with two datasets: Fashion-MNIST and CIFAR-10, using Multi Layer Perceptron and LeNet-5 models."
      ],
      "metadata": {
        "id": "DbcT1VzPSm6X"
      }
    },
    {
      "cell_type": "markdown",
      "source": [
        "# Setup for getting the reproducible results"
      ],
      "metadata": {
        "id": "Dycg_JauJbYw"
      }
    },
    {
      "cell_type": "code",
      "source": [
        "random.seed(1)\n",
        "np.random.seed(1)\n",
        "torch.manual_seed(1)\n",
        "torch.backends.cudnn.deterministic = True\n",
        "torch.backends.cudnn.benchmark = False"
      ],
      "metadata": {
        "id": "agZrTizcJTar"
      },
      "execution_count": 3,
      "outputs": []
    },
    {
      "cell_type": "markdown",
      "source": [
        "# Defining hyperarameters"
      ],
      "metadata": {
        "id": "C3A0zcekJ05q"
      }
    },
    {
      "cell_type": "code",
      "source": [
        "learning_rate = 0.001 \n",
        "batch_size = 64 \n",
        "n_epochs = 50"
      ],
      "metadata": {
        "id": "ZP5sB58oJf9A"
      },
      "execution_count": 4,
      "outputs": []
    },
    {
      "cell_type": "markdown",
      "source": [
        "# 1. Multi Layer Perceptron"
      ],
      "metadata": {
        "id": "7hsLIwrQSulB"
      }
    },
    {
      "cell_type": "markdown",
      "source": [
        "## Loading data from Google Drive"
      ],
      "metadata": {
        "id": "ycxlcZtIKAbH"
      }
    },
    {
      "cell_type": "markdown",
      "source": [
        "### Fashion-MNIST"
      ],
      "metadata": {
        "id": "3EirS6SdKTW3"
      }
    },
    {
      "cell_type": "code",
      "source": [
        "train_dataset_FashionMNIST = datasets.FashionMNIST(root='/content/fashion_mnist', train = True, transform=transforms.ToTensor(), download=True)\n",
        "train_loader_FashionMNIST = DataLoader(dataset=train_dataset_FashionMNIST, batch_size=batch_size, shuffle=True)\n",
        "\n",
        "test_dataset_FashionMNIST = datasets.FashionMNIST(root='/content/fashion_mnist', train = False, transform=transforms.ToTensor(), download=True)\n",
        "test_loader_FashionMNIST = DataLoader(dataset=test_dataset_FashionMNIST, batch_size=batch_size, shuffle=True)"
      ],
      "metadata": {
        "id": "IRdByvTzJ57Z"
      },
      "execution_count": null,
      "outputs": []
    },
    {
      "cell_type": "code",
      "source": [
        "input_size_FashionMNIST = 784\n",
        "n_classes_FashionMNIST = 10"
      ],
      "metadata": {
        "id": "H3qTnWpDYhrp"
      },
      "execution_count": 6,
      "outputs": []
    },
    {
      "cell_type": "code",
      "source": [
        "classes_FashionMNIST = ('T-shirt/top', 'Trouser', 'Pullover', 'Dress', 'Coat', 'Sandal', 'Shirt', 'Sneaker', 'Bag', 'Ankle boot')\n",
        "image_FashionMNIST, label_FashionMNIST = train_dataset_FashionMNIST[0]\n",
        "plt.imshow(image_FashionMNIST.squeeze(), cmap='gray')\n",
        "print(classes_FashionMNIST[label_FashionMNIST])"
      ],
      "metadata": {
        "id": "BiaEfhlpLtRs",
        "colab": {
          "base_uri": "https://localhost:8080/",
          "height": 282
        },
        "outputId": "b5c5a308-6ca0-45a2-aa25-299389a9d717"
      },
      "execution_count": 7,
      "outputs": [
        {
          "output_type": "stream",
          "name": "stdout",
          "text": [
            "Ankle boot\n"
          ]
        },
        {
          "output_type": "display_data",
          "data": {
            "image/png": "[encoded data removed]",
            "text/plain": [
              "<Figure size 432x288 with 1 Axes>"
            ]
          },
          "metadata": {
            "needs_background": "light"
          }
        }
      ]
    },
    {
      "cell_type": "markdown",
      "source": [
        "### CIFAR-10"
      ],
      "metadata": {
        "id": "AEfzuAVZS7qN"
      }
    },
    {
      "cell_type": "code",
      "source": [
        "train_dataset_CIFAR10 = datasets.CIFAR10(root='/content/CIFAR10', train = True, transform=transforms.ToTensor(), download=True)\n",
        "train_loader_CIFAR10 = DataLoader(dataset=train_dataset_CIFAR10, batch_size=batch_size, shuffle=True)\n",
        "\n",
        "test_dataset_CIFAR10 = datasets.CIFAR10(root='/content/CIFAR10', train = False, transform=transforms.ToTensor(), download=True)\n",
        "test_loader_CIFAR10 = DataLoader(dataset=test_dataset_CIFAR10, batch_size=batch_size, shuffle=True)"
      ],
      "metadata": {
        "id": "U0PzL6mfTJTY"
      },
      "execution_count": null,
      "outputs": []
    },
    {
      "cell_type": "code",
      "source": [
        "input_size_CIFAR10 = 3072\n",
        "n_classes_CIFAR10 = 10"
      ],
      "metadata": {
        "id": "OmgfrX0lYod5"
      },
      "execution_count": 9,
      "outputs": []
    },
    {
      "cell_type": "code",
      "source": [
        "classes_CIFAR10 = ('airplane', 'automobile', 'bird', 'cat', 'deer', 'dog', 'frog\t', 'horse', 'ship', 'truck')\n",
        "image_CIFAR10, label_CIFAR10 = train_dataset_CIFAR10[0]\n",
        "plt.imshow(image_CIFAR10.permute((1, 2, 0)))\n",
        "print(classes_CIFAR10[label_CIFAR10])"
      ],
      "metadata": {
        "colab": {
          "base_uri": "https://localhost:8080/",
          "height": 283
        },
        "id": "K_A-YAYCWdvB",
        "outputId": "a15d8d79-b99e-4c80-fbe9-d127d61f4700"
      },
      "execution_count": 10,
      "outputs": [
        {
          "output_type": "stream",
          "name": "stdout",
          "text": [
            "frog\t\n"
          ]
        },
        {
          "output_type": "display_data",
          "data": {
            "image/png": "[encoded data removed]",
            "text/plain": [
              "<Figure size 432x288 with 1 Axes>"
            ]
          },
          "metadata": {
            "needs_background": "light"
          }
        }
      ]
    },
    {
      "cell_type": "markdown",
      "source": [
        "## Building a Multi Layer Perceptron model using Pytorch"
      ],
      "metadata": {
        "id": "Yhk9HoSqN1e5"
      }
    },
    {
      "cell_type": "markdown",
      "source": [
        "### For Fashion-MNIST dataset"
      ],
      "metadata": {
        "id": "Sel37hBBXx8c"
      }
    },
    {
      "cell_type": "code",
      "source": [
        "class MLP_FashionMNIST(nn.Module):\n",
        "    def __init__(self, input_size, n_classes):\n",
        "        super().__init__()\n",
        "        self.model = nn.Sequential(\n",
        "            nn.Linear(input_size, 100),\n",
        "            nn.ReLU(),\n",
        "            nn.Linear(100, 100),      \n",
        "            nn.ReLU(),\n",
        "            nn.Linear(100, 50),\n",
        "            nn.ReLU(),\n",
        "            nn.Linear(50, 25), \n",
        "            nn.ReLU(),\n",
        "            nn.Linear(25, n_classes),\n",
        "            nn.Softmax(dim=1)\n",
        "        )\n",
        "    \n",
        "    def forward(self, X):\n",
        "        prob = self.model(X)\n",
        "        return prob"
      ],
      "metadata": {
        "id": "qpvWvsNQNtQe"
      },
      "execution_count": 11,
      "outputs": []
    },
    {
      "cell_type": "code",
      "source": [
        "model_FashionMNIST = MLP_FashionMNIST(input_size=input_size_FashionMNIST, n_classes=n_classes_FashionMNIST).to(device)\n",
        "print(model_FashionMNIST)"
      ],
      "metadata": {
        "id": "aOxlnSOKPPH-",
        "colab": {
          "base_uri": "https://localhost:8080/"
        },
        "outputId": "729748d1-fea6-47db-9b67-4115fd314599"
      },
      "execution_count": 12,
      "outputs": [
        {
          "output_type": "stream",
          "name": "stdout",
          "text": [
            "MLP_FashionMNIST(\n",
            "  (model): Sequential(\n",
            "    (0): Linear(in_features=784, out_features=100, bias=True)\n",
            "    (1): ReLU()\n",
            "    (2): Linear(in_features=100, out_features=100, bias=True)\n",
            "    (3): ReLU()\n",
            "    (4): Linear(in_features=100, out_features=50, bias=True)\n",
            "    (5): ReLU()\n",
            "    (6): Linear(in_features=50, out_features=25, bias=True)\n",
            "    (7): ReLU()\n",
            "    (8): Linear(in_features=25, out_features=10, bias=True)\n",
            "    (9): Softmax(dim=1)\n",
            "  )\n",
            ")\n"
          ]
        }
      ]
    },
    {
      "cell_type": "markdown",
      "source": [
        "### For CIFAR-10 dataset"
      ],
      "metadata": {
        "id": "v71j_cS5ZY_5"
      }
    },
    {
      "cell_type": "code",
      "source": [
        "class MLP_CIFAR10(nn.Module):\n",
        "    def __init__(self, input_size, n_classes):\n",
        "        super().__init__()\n",
        "        self.model = nn.Sequential(\n",
        "            nn.Linear(input_size, 1024),\n",
        "            nn.ReLU(),\n",
        "            nn.Linear(1024, 512),      \n",
        "            nn.ReLU(),\n",
        "            nn.Linear(512, 256),\n",
        "            nn.ReLU(),\n",
        "            nn.Linear(256, 64), \n",
        "            nn.ReLU(),\n",
        "            nn.Linear(64, n_classes),\n",
        "            nn.Softmax(dim=1)\n",
        "        )\n",
        "    \n",
        "    def forward(self, X):\n",
        "        prob = self.model(X)\n",
        "        return prob"
      ],
      "metadata": {
        "id": "ki8DtNI_ZKbD"
      },
      "execution_count": 13,
      "outputs": []
    },
    {
      "cell_type": "code",
      "source": [
        "model_CIFAR10 = MLP_CIFAR10(input_size=input_size_CIFAR10, n_classes=n_classes_CIFAR10).to(device)\n",
        "print(model_CIFAR10)"
      ],
      "metadata": {
        "colab": {
          "base_uri": "https://localhost:8080/"
        },
        "id": "ReNC9ZgAZqsd",
        "outputId": "723ce6ba-391e-4276-e0dc-f2fc389e9be7"
      },
      "execution_count": 14,
      "outputs": [
        {
          "output_type": "stream",
          "name": "stdout",
          "text": [
            "MLP_CIFAR10(\n",
            "  (model): Sequential(\n",
            "    (0): Linear(in_features=3072, out_features=1024, bias=True)\n",
            "    (1): ReLU()\n",
            "    (2): Linear(in_features=1024, out_features=512, bias=True)\n",
            "    (3): ReLU()\n",
            "    (4): Linear(in_features=512, out_features=256, bias=True)\n",
            "    (5): ReLU()\n",
            "    (6): Linear(in_features=256, out_features=64, bias=True)\n",
            "    (7): ReLU()\n",
            "    (8): Linear(in_features=64, out_features=10, bias=True)\n",
            "    (9): Softmax(dim=1)\n",
            "  )\n",
            ")\n"
          ]
        }
      ]
    },
    {
      "cell_type": "markdown",
      "source": [
        "## Defining the loss and the optimization algorithm"
      ],
      "metadata": {
        "id": "gCKNQgipZ4FT"
      }
    },
    {
      "cell_type": "code",
      "source": [
        "criterion = nn.CrossEntropyLoss()\n",
        "# Optmization algorithm for Fashion-MNIST dataset\n",
        "optimizer_FashionMNIST = optim.Adam(model_FashionMNIST.parameters(), lr=learning_rate)\n",
        "# # Optmization algorithm for CIFAR-10 dataset\n",
        "optimizer_CIFAR10 = optim.Adam(model_CIFAR10.parameters(), lr=learning_rate)"
      ],
      "metadata": {
        "id": "Z5xPlQSQZ1dd"
      },
      "execution_count": 15,
      "outputs": []
    },
    {
      "cell_type": "markdown",
      "source": [
        "## Training model"
      ],
      "metadata": {
        "id": "dFwf2oH9a0Ut"
      }
    },
    {
      "cell_type": "markdown",
      "source": [
        "### Fashion-MNIST"
      ],
      "metadata": {
        "id": "Evd7XL0RcIov"
      }
    },
    {
      "cell_type": "code",
      "source": [
        "for epoch in range(n_epochs):\n",
        "    for batch_idx, (data, targets) in enumerate(train_loader_FashionMNIST):\n",
        "        data = data.to(device)\n",
        "        targets = targets.to(device)\n",
        "\n",
        "        data = data.reshape(data.shape[0],-1)\n",
        "        scores = model_FashionMNIST(data)\n",
        "\n",
        "        loss = criterion(scores, targets)\n",
        "        optimizer_FashionMNIST.zero_grad()\n",
        "        loss.backward()\n",
        "\n",
        "        optimizer_FashionMNIST.step()\n",
        "\n",
        "        if (batch_idx+1) % 100 == 0:\n",
        "            print(f\"Epoch {epoch+1}/{n_epochs}, Batch {batch_idx+1}, Loss: {loss.item():.2f}\")"
      ],
      "metadata": {
        "id": "2SfePqdhazGi"
      },
      "execution_count": null,
      "outputs": []
    },
    {
      "cell_type": "markdown",
      "source": [
        "### CIFAR-10"
      ],
      "metadata": {
        "id": "snxa8FD1eUZD"
      }
    },
    {
      "cell_type": "code",
      "source": [
        "for epoch in range(n_epochs):\n",
        "    for batch_idx, (data, targets) in enumerate(train_loader_CIFAR10):\n",
        "        data = data.to(device)\n",
        "        targets = targets.to(device)\n",
        "\n",
        "        data = data.reshape(data.shape[0],-1)\n",
        "        scores = model_CIFAR10(data)\n",
        "\n",
        "        loss = criterion(scores, targets)\n",
        "        optimizer_CIFAR10.zero_grad()\n",
        "        loss.backward()\n",
        "\n",
        "        optimizer_CIFAR10.step()\n",
        "\n",
        "        if (batch_idx+1) % 100 == 0:\n",
        "            print(f\"Epoch {epoch+1}/{n_epochs}, Batch {batch_idx+1}, Loss: {loss.item():.2f}\")"
      ],
      "metadata": {
        "id": "VwQazRdyeZ-I"
      },
      "execution_count": null,
      "outputs": []
    },
    {
      "cell_type": "markdown",
      "source": [
        "## Defining function get accuracy"
      ],
      "metadata": {
        "id": "MVWgjQN8bRSB"
      }
    },
    {
      "cell_type": "code",
      "source": [
        "def get_accuracy(loader, model):\n",
        "    if loader.dataset.train:\n",
        "        print(\"Getting accuracy on traning data.\")\n",
        "    else:\n",
        "        print(\"Getting accuracy on testing data.\")\n",
        "    \n",
        "    n_corrects = 0\n",
        "    n_samples = 0\n",
        "    model.eval()\n",
        "\n",
        "    with torch.no_grad():\n",
        "        for x, y in loader:\n",
        "            x = x.to(device)\n",
        "            y = y.to(device)\n",
        "            x = x.reshape(x.shape[0], -1)\n",
        "\n",
        "            # forward\n",
        "            scores = model(x)\n",
        "            _, y_pred = scores.max(1)\n",
        "            n_corrects += (y_pred == y).sum()\n",
        "            n_samples += y_pred.size(0)\n",
        "        \n",
        "        print(f\"We got {n_corrects}/{n_samples} correct. Accuracy = {n_corrects/float(n_samples)*100.0:.2f}\")\n",
        "    model.train()"
      ],
      "metadata": {
        "id": "wjjWNU_0b87P"
      },
      "execution_count": 18,
      "outputs": []
    },
    {
      "cell_type": "markdown",
      "source": [
        "## Performance Evaluation"
      ],
      "metadata": {
        "id": "e1glOFpDeu5G"
      }
    },
    {
      "cell_type": "markdown",
      "source": [
        "### Fashion-MNIST"
      ],
      "metadata": {
        "id": "hcXJazjce2Yv"
      }
    },
    {
      "cell_type": "code",
      "source": [
        "get_accuracy(train_loader_FashionMNIST, model_FashionMNIST)\n",
        "get_accuracy(test_loader_FashionMNIST, model_FashionMNIST)"
      ],
      "metadata": {
        "colab": {
          "base_uri": "https://localhost:8080/"
        },
        "id": "zEzkvCX2cjvL",
        "outputId": "da2d4afe-dbba-4c69-8b98-c51d598309c2"
      },
      "execution_count": 19,
      "outputs": [
        {
          "output_type": "stream",
          "name": "stdout",
          "text": [
            "Getting accuracy on traning data.\n",
            "We got 48987/60000 correct. Accuracy = 81.64\n",
            "Getting accuracy on testing data.\n",
            "We got 7977/10000 correct. Accuracy = 79.77\n"
          ]
        }
      ]
    },
    {
      "cell_type": "markdown",
      "source": [
        "### CIFAR-10"
      ],
      "metadata": {
        "id": "PUKPayMffD-T"
      }
    },
    {
      "cell_type": "code",
      "source": [
        "get_accuracy(train_loader_CIFAR10, model_CIFAR10)\n",
        "get_accuracy(test_loader_CIFAR10, model_CIFAR10)"
      ],
      "metadata": {
        "colab": {
          "base_uri": "https://localhost:8080/"
        },
        "id": "89xpNl4EfH3R",
        "outputId": "aab9b812-fddb-448f-8f0c-e81a0f520d94"
      },
      "execution_count": 20,
      "outputs": [
        {
          "output_type": "stream",
          "name": "stdout",
          "text": [
            "Getting accuracy on traning data.\n",
            "We got 21010/50000 correct. Accuracy = 42.02\n",
            "Getting accuracy on testing data.\n",
            "We got 4050/10000 correct. Accuracy = 40.50\n"
          ]
        }
      ]
    },
    {
      "cell_type": "markdown",
      "source": [
        "# 2. LeNet-5"
      ],
      "metadata": {
        "id": "K94OXSfgf5yz"
      }
    },
    {
      "cell_type": "markdown",
      "source": [
        "## Transformations"
      ],
      "metadata": {
        "id": "T3NPLJ32gPXg"
      }
    },
    {
      "cell_type": "code",
      "source": [
        "Transforms = transforms.Compose([transforms.Resize((32, 32)), transforms.ToTensor()])"
      ],
      "metadata": {
        "id": "6l2zK9Z6f-Ud"
      },
      "execution_count": 21,
      "outputs": []
    },
    {
      "cell_type": "markdown",
      "source": [
        "## Loading data from Google Drive"
      ],
      "metadata": {
        "id": "J850LKFbgRp_"
      }
    },
    {
      "cell_type": "markdown",
      "source": [
        "### Fashion-MNIST"
      ],
      "metadata": {
        "id": "YWJBsgJrhDkc"
      }
    },
    {
      "cell_type": "code",
      "source": [
        "train_dataset_FashionMNIST = datasets.FashionMNIST(root='/content/fashion_mnist', train = True, transform=Transforms, download=True)\n",
        "train_loader_FashionMNIST = DataLoader(dataset=train_dataset_FashionMNIST, batch_size=batch_size, shuffle=True)\n",
        "\n",
        "test_dataset_FashionMNIST = datasets.FashionMNIST(root='/content/fashion_mnist', train = False, transform=Transforms, download=True)\n",
        "test_loader_FashionMNIST = DataLoader(dataset=test_dataset_FashionMNIST, batch_size=batch_size, shuffle=True)"
      ],
      "metadata": {
        "id": "xLxtLqgPgR-I"
      },
      "execution_count": 22,
      "outputs": []
    },
    {
      "cell_type": "code",
      "source": [
        "n_classes_FashionMNIST = 10"
      ],
      "metadata": {
        "id": "rKCMq53hhnx_"
      },
      "execution_count": 23,
      "outputs": []
    },
    {
      "cell_type": "code",
      "source": [
        "classes_FashionMNIST = ('T-shirt/top', 'Trouser', 'Pullover', 'Dress', 'Coat', 'Sandal', 'Shirt', 'Sneaker', 'Bag', 'Ankle boot')\n",
        "image_FashionMNIST, label_FashionMNIST = train_dataset_FashionMNIST[1]\n",
        "plt.imshow(image_FashionMNIST.squeeze(), cmap='gray')\n",
        "print(classes_FashionMNIST[label_FashionMNIST])"
      ],
      "metadata": {
        "colab": {
          "base_uri": "https://localhost:8080/",
          "height": 283
        },
        "id": "TChIgipGhz4k",
        "outputId": "39c6edf3-23ee-4c0c-fccc-0a8d9b57642e"
      },
      "execution_count": 24,
      "outputs": [
        {
          "output_type": "stream",
          "name": "stdout",
          "text": [
            "T-shirt/top\n"
          ]
        },
        {
          "output_type": "display_data",
          "data": {
            "image/png": "[encoded data removed]",
            "text/plain": [
              "<Figure size 432x288 with 1 Axes>"
            ]
          },
          "metadata": {
            "needs_background": "light"
          }
        }
      ]
    },
    {
      "cell_type": "markdown",
      "source": [
        "### CIFAR-10"
      ],
      "metadata": {
        "id": "fHcS4faNhhhp"
      }
    },
    {
      "cell_type": "code",
      "source": [
        "train_dataset_CIFAR10 = datasets.CIFAR10(root='/content/CIFAR10', train = True, transform=transforms.ToTensor(), download=True)\n",
        "train_loader_CIFAR10 = DataLoader(dataset=train_dataset_CIFAR10, batch_size=batch_size, shuffle=True)\n",
        "\n",
        "test_dataset_CIFAR10 = datasets.CIFAR10(root='/content/CIFAR10', train = False, transform=transforms.ToTensor(), download=True)\n",
        "test_loader_CIFAR10 = DataLoader(dataset=test_dataset_CIFAR10, batch_size=batch_size, shuffle=True)"
      ],
      "metadata": {
        "colab": {
          "base_uri": "https://localhost:8080/"
        },
        "id": "waXLFKxjhkXL",
        "outputId": "d41ebadd-3f7f-4c8f-d25b-86b31ffd6b49"
      },
      "execution_count": 25,
      "outputs": [
        {
          "output_type": "stream",
          "name": "stdout",
          "text": [
            "Files already downloaded and verified\n",
            "Files already downloaded and verified\n"
          ]
        }
      ]
    },
    {
      "cell_type": "code",
      "source": [
        "n_classes_CIFAR10 = 10"
      ],
      "metadata": {
        "id": "xa2ZgQr7h-Z_"
      },
      "execution_count": 26,
      "outputs": []
    },
    {
      "cell_type": "code",
      "source": [
        "classes_CIFAR10 = ('airplane', 'automobile', 'bird', 'cat', 'deer', 'dog', 'frog\t', 'horse', 'ship', 'truck')\n",
        "image_CIFAR10, label_CIFAR10 = train_dataset_CIFAR10[1]\n",
        "plt.imshow(image_CIFAR10.permute((1, 2, 0)))\n",
        "print(classes_CIFAR10[label_CIFAR10])"
      ],
      "metadata": {
        "colab": {
          "base_uri": "https://localhost:8080/",
          "height": 283
        },
        "id": "zGVGBzdjh_ut",
        "outputId": "93b38883-520f-4e1a-d407-d2f5c5f4aa1a"
      },
      "execution_count": 27,
      "outputs": [
        {
          "output_type": "stream",
          "name": "stdout",
          "text": [
            "truck\n"
          ]
        },
        {
          "output_type": "display_data",
          "data": {
            "image/png": "[encoded data removed]",
            "text/plain": [
              "<Figure size 432x288 with 1 Axes>"
            ]
          },
          "metadata": {
            "needs_background": "light"
          }
        }
      ]
    },
    {
      "cell_type": "markdown",
      "source": [
        "## Build LeNet-5 by using PyTorch"
      ],
      "metadata": {
        "id": "kJNozuNdiib4"
      }
    },
    {
      "cell_type": "markdown",
      "source": [
        "### For Fashion-MNIST dataset"
      ],
      "metadata": {
        "id": "cOqFzil_l782"
      }
    },
    {
      "cell_type": "code",
      "source": [
        "class LeNet5_FashionMNIST(nn.Module):\n",
        "    def __init__(self, n_classes):\n",
        "        super().__init__()\n",
        "        self.model = nn.Sequential(\n",
        "            nn.Conv2d(in_channels=1, out_channels=6, kernel_size=5, stride=1),\n",
        "            nn.Tanh(),\n",
        "            nn.AvgPool2d(kernel_size=2),\n",
        "            nn.Conv2d(in_channels=6, out_channels=16, kernel_size=5, stride=1),\n",
        "            nn.Tanh(),\n",
        "            nn.AvgPool2d(kernel_size=2),\n",
        "            nn.Conv2d(in_channels=16, out_channels=120, kernel_size=5, stride=1),\n",
        "            nn.Tanh(),\n",
        "            nn.Flatten(),\n",
        "            nn.Linear(in_features=120, out_features=84),\n",
        "            nn.Tanh(),\n",
        "            nn.Linear(in_features=84, out_features=n_classes),\n",
        "            nn.Softmax(dim=1)\n",
        "        )\n",
        "\n",
        "    def forward(self, X):\n",
        "        prob = self.model(X)\n",
        "        return prob"
      ],
      "metadata": {
        "id": "R7kLHzKsinc6"
      },
      "execution_count": 28,
      "outputs": []
    },
    {
      "cell_type": "code",
      "source": [
        "model_FashionMNIST = LeNet5_FashionMNIST(n_classes=n_classes_FashionMNIST).to(device)\n",
        "print(model_FashionMNIST)"
      ],
      "metadata": {
        "colab": {
          "base_uri": "https://localhost:8080/"
        },
        "id": "scglL2VBmG7E",
        "outputId": "bd37b5a9-c5e8-428d-acba-332e9b6e5a00"
      },
      "execution_count": 29,
      "outputs": [
        {
          "output_type": "stream",
          "name": "stdout",
          "text": [
            "LeNet5_FashionMNIST(\n",
            "  (model): Sequential(\n",
            "    (0): Conv2d(1, 6, kernel_size=(5, 5), stride=(1, 1))\n",
            "    (1): Tanh()\n",
            "    (2): AvgPool2d(kernel_size=2, stride=2, padding=0)\n",
            "    (3): Conv2d(6, 16, kernel_size=(5, 5), stride=(1, 1))\n",
            "    (4): Tanh()\n",
            "    (5): AvgPool2d(kernel_size=2, stride=2, padding=0)\n",
            "    (6): Conv2d(16, 120, kernel_size=(5, 5), stride=(1, 1))\n",
            "    (7): Tanh()\n",
            "    (8): Flatten(start_dim=1, end_dim=-1)\n",
            "    (9): Linear(in_features=120, out_features=84, bias=True)\n",
            "    (10): Tanh()\n",
            "    (11): Linear(in_features=84, out_features=10, bias=True)\n",
            "    (12): Softmax(dim=1)\n",
            "  )\n",
            ")\n"
          ]
        }
      ]
    },
    {
      "cell_type": "markdown",
      "source": [
        "### For CIFAR-10 dataset"
      ],
      "metadata": {
        "id": "4goZIud_mUe5"
      }
    },
    {
      "cell_type": "code",
      "source": [
        "class LeNet5_CIFAR10(nn.Module):\n",
        "    def __init__(self, n_classes):\n",
        "        super().__init__()\n",
        "        self.model = nn.Sequential(\n",
        "            nn.Conv2d(in_channels=3, out_channels=6, kernel_size=5, stride=1),\n",
        "            nn.Tanh(),\n",
        "            nn.AvgPool2d(kernel_size=2),\n",
        "            nn.Conv2d(in_channels=6, out_channels=16, kernel_size=5, stride=1),\n",
        "            nn.Tanh(),\n",
        "            nn.AvgPool2d(kernel_size=2),\n",
        "            nn.Conv2d(in_channels=16, out_channels=120, kernel_size=5, stride=1),\n",
        "            nn.Tanh(),\n",
        "            nn.Flatten(),\n",
        "            nn.Linear(in_features=120, out_features=84),\n",
        "            nn.Tanh(),\n",
        "            nn.Linear(in_features=84, out_features=n_classes),\n",
        "            nn.Softmax(dim=1)\n",
        "        )\n",
        "\n",
        "    def forward(self, X):\n",
        "        prob = self.model(X)\n",
        "        return prob"
      ],
      "metadata": {
        "id": "f8T5XAgTmPSY"
      },
      "execution_count": 30,
      "outputs": []
    },
    {
      "cell_type": "code",
      "source": [
        "model_CIFAR10 = LeNet5_CIFAR10(n_classes=n_classes_CIFAR10).to(device)\n",
        "print(model_CIFAR10)"
      ],
      "metadata": {
        "colab": {
          "base_uri": "https://localhost:8080/"
        },
        "id": "B7Has1elmeQI",
        "outputId": "1b22f01b-aa17-4411-c6ff-de43c747afb8"
      },
      "execution_count": 31,
      "outputs": [
        {
          "output_type": "stream",
          "name": "stdout",
          "text": [
            "LeNet5_CIFAR10(\n",
            "  (model): Sequential(\n",
            "    (0): Conv2d(3, 6, kernel_size=(5, 5), stride=(1, 1))\n",
            "    (1): Tanh()\n",
            "    (2): AvgPool2d(kernel_size=2, stride=2, padding=0)\n",
            "    (3): Conv2d(6, 16, kernel_size=(5, 5), stride=(1, 1))\n",
            "    (4): Tanh()\n",
            "    (5): AvgPool2d(kernel_size=2, stride=2, padding=0)\n",
            "    (6): Conv2d(16, 120, kernel_size=(5, 5), stride=(1, 1))\n",
            "    (7): Tanh()\n",
            "    (8): Flatten(start_dim=1, end_dim=-1)\n",
            "    (9): Linear(in_features=120, out_features=84, bias=True)\n",
            "    (10): Tanh()\n",
            "    (11): Linear(in_features=84, out_features=10, bias=True)\n",
            "    (12): Softmax(dim=1)\n",
            "  )\n",
            ")\n"
          ]
        }
      ]
    },
    {
      "cell_type": "markdown",
      "source": [
        "## Defining the loss and the optimization algorithm"
      ],
      "metadata": {
        "id": "p76CkO8hmoPk"
      }
    },
    {
      "cell_type": "code",
      "source": [
        "criterion = nn.CrossEntropyLoss()\n",
        "# Optmization algorithm for Fashion-MNIST dataset\n",
        "optimizer_FashionMNIST = optim.Adam(model_FashionMNIST.parameters(), lr=learning_rate)\n",
        "# # Optmization algorithm for CIFAR-10 dataset\n",
        "optimizer_CIFAR10 = optim.Adam(model_CIFAR10.parameters(), lr=learning_rate)"
      ],
      "metadata": {
        "id": "_5wJ5ZxYmkMs"
      },
      "execution_count": 32,
      "outputs": []
    },
    {
      "cell_type": "markdown",
      "source": [
        "## Training model"
      ],
      "metadata": {
        "id": "_luMdkTnmv1F"
      }
    },
    {
      "cell_type": "markdown",
      "source": [
        "### Fashion-MNIST"
      ],
      "metadata": {
        "id": "MRIYpovZm78z"
      }
    },
    {
      "cell_type": "code",
      "source": [
        "for epoch in range(n_epochs):\n",
        "    for batch_idx, (data, targets) in enumerate(train_loader_FashionMNIST):\n",
        "        data = data.to(device)\n",
        "        targets = targets.to(device)\n",
        "\n",
        "        scores = model_FashionMNIST(data)\n",
        "\n",
        "        loss = criterion(scores, targets)\n",
        "        optimizer_FashionMNIST.zero_grad()\n",
        "        loss.backward()\n",
        "\n",
        "        optimizer_FashionMNIST.step()\n",
        "\n",
        "        if (batch_idx+1) % 100 == 0:\n",
        "            print(f\"Epoch {epoch+1}/{n_epochs}, Batch {batch_idx+1}, Loss: {loss.item():.2f}\")"
      ],
      "metadata": {
        "id": "AedjO6Rwmsm3"
      },
      "execution_count": null,
      "outputs": []
    },
    {
      "cell_type": "markdown",
      "source": [
        "### CIFAR-10"
      ],
      "metadata": {
        "id": "ug5EBeu-oaIN"
      }
    },
    {
      "cell_type": "code",
      "source": [
        "for epoch in range(n_epochs):\n",
        "    for batch_idx, (data, targets) in enumerate(train_loader_CIFAR10):\n",
        "        data = data.to(device)\n",
        "        targets = targets.to(device)\n",
        "\n",
        "        scores = model_CIFAR10(data)\n",
        "\n",
        "        loss = criterion(scores, targets)\n",
        "        optimizer_CIFAR10.zero_grad()\n",
        "        loss.backward()\n",
        "\n",
        "        optimizer_CIFAR10.step()\n",
        "\n",
        "        if (batch_idx+1) % 100 == 0:\n",
        "            print(f\"Epoch {epoch+1}/{n_epochs}, Batch {batch_idx+1}, Loss: {loss.item():.2f}\")"
      ],
      "metadata": {
        "id": "qnkA9RS2m8bz"
      },
      "execution_count": null,
      "outputs": []
    },
    {
      "cell_type": "markdown",
      "source": [
        "## Defining function get accuracy"
      ],
      "metadata": {
        "id": "CPw3yojurY9A"
      }
    },
    {
      "cell_type": "code",
      "source": [
        "def get_accuracy(loader, model):\n",
        "    if loader.dataset.train:\n",
        "        print(\"Getting accuracy on traning data.\")\n",
        "    else:\n",
        "        print(\"Getting accuracy on testing data.\")\n",
        "    \n",
        "    n_corrects = 0\n",
        "    n_samples = 0\n",
        "    model.eval()\n",
        "\n",
        "    with torch.no_grad():\n",
        "        for x, y in loader:\n",
        "            x = x.to(device)\n",
        "            y = y.to(device)\n",
        "\n",
        "            # forward\n",
        "            scores = model(x)\n",
        "            _, y_pred = scores.max(1)\n",
        "            n_corrects += (y_pred == y).sum()\n",
        "            n_samples += y_pred.size(0)\n",
        "        \n",
        "        print(f\"We got {n_corrects}/{n_samples} correct. Accuracy = {n_corrects/float(n_samples)*100.0:.2f}\")\n",
        "    model.train()"
      ],
      "metadata": {
        "id": "Mzzxk86qrbUi"
      },
      "execution_count": 35,
      "outputs": []
    },
    {
      "cell_type": "markdown",
      "source": [
        "## Performance Evaluation"
      ],
      "metadata": {
        "id": "TjBEOL4-rdko"
      }
    },
    {
      "cell_type": "markdown",
      "source": [
        "### Fashion-MNIST"
      ],
      "metadata": {
        "id": "K_M19ymFrgDR"
      }
    },
    {
      "cell_type": "code",
      "source": [
        "get_accuracy(train_loader_FashionMNIST, model_FashionMNIST)\n",
        "get_accuracy(test_loader_FashionMNIST, model_FashionMNIST)"
      ],
      "metadata": {
        "colab": {
          "base_uri": "https://localhost:8080/"
        },
        "id": "VC2POwGNobs2",
        "outputId": "5411e474-3d8f-4c0c-e16f-517ed050b298"
      },
      "execution_count": 36,
      "outputs": [
        {
          "output_type": "stream",
          "name": "stdout",
          "text": [
            "Getting accuracy on traning data.\n",
            "We got 56196/60000 correct. Accuracy = 93.66\n",
            "Getting accuracy on testing data.\n",
            "We got 8859/10000 correct. Accuracy = 88.59\n"
          ]
        }
      ]
    },
    {
      "cell_type": "markdown",
      "source": [
        "### CIFAR-10"
      ],
      "metadata": {
        "id": "cXjWoQX0rkHK"
      }
    },
    {
      "cell_type": "code",
      "source": [
        "get_accuracy(train_loader_CIFAR10, model_CIFAR10)\n",
        "get_accuracy(test_loader_CIFAR10, model_CIFAR10)"
      ],
      "metadata": {
        "id": "LYvQ0UjbrlAF",
        "colab": {
          "base_uri": "https://localhost:8080/"
        },
        "outputId": "075c61e4-346d-4c8c-fe35-6b6c03007112"
      },
      "execution_count": 37,
      "outputs": [
        {
          "output_type": "stream",
          "name": "stdout",
          "text": [
            "Getting accuracy on traning data.\n",
            "We got 36773/50000 correct. Accuracy = 73.55\n",
            "Getting accuracy on testing data.\n",
            "We got 5276/10000 correct. Accuracy = 52.76\n"
          ]
        }
      ]
    }
  ]
}