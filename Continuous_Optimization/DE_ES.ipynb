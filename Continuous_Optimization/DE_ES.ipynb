{
  "nbformat": 4,
  "nbformat_minor": 0,
  "metadata": {
    "colab": {
      "name": "DE_ES.ipynb",
      "provenance": [],
      "collapsed_sections": [],
      "toc_visible": true
    },
    "kernelspec": {
      "display_name": "Python 3",
      "name": "python3"
    },
    "language_info": {
      "name": "python"
    }
  },
  "cells": [
    {
      "cell_type": "code",
      "metadata": {
        "colab": {
          "base_uri": "https://localhost:8080/"
        },
        "id": "uaCWNrb4tOvi",
        "outputId": "8b2c905c-3e58-4233-f933-746793491ed6"
      },
      "source": [
        "from google.colab import drive\n",
        "drive.mount('/content/drive')"
      ],
      "execution_count": null,
      "outputs": [
        {
          "output_type": "stream",
          "name": "stdout",
          "text": [
            "Mounted at /content/drive\n"
          ]
        }
      ]
    },
    {
      "cell_type": "markdown",
      "metadata": {
        "id": "lI1M10CfBkCd"
      },
      "source": [
        "# Khai báo thư viện"
      ]
    },
    {
      "cell_type": "code",
      "metadata": {
        "id": "MaXoLZgi_w0l"
      },
      "source": [
        "import numpy as np\n",
        "import pandas as pd\n",
        "import matplotlib.pyplot as plt\n",
        "import csv\n",
        "import sys\n",
        "import cv2\n",
        "import json\n",
        "import os\n",
        "import glob2\n",
        "\n",
        "import imageio\n",
        "from matplotlib.animation import FuncAnimation\n",
        "import matplotlib.animation as manimation\n",
        "from IPython import display\n",
        "from time import sleep"
      ],
      "execution_count": null,
      "outputs": []
    },
    {
      "cell_type": "markdown",
      "metadata": {
        "id": "qYheEruRMhf2"
      },
      "source": [
        "# Các hàm mục tiêu"
      ]
    },
    {
      "cell_type": "markdown",
      "metadata": {
        "id": "lgu80-N6MkSg"
      },
      "source": [
        "## Hàm Sphere"
      ]
    },
    {
      "cell_type": "code",
      "metadata": {
        "id": "62BPWs_yI7VQ"
      },
      "source": [
        "def Sphere(x):\n",
        "  result = 0\n",
        "  for i in range(len(x)):\n",
        "    result += x[i] * x[i]\n",
        "  \n",
        "  return result"
      ],
      "execution_count": null,
      "outputs": []
    },
    {
      "cell_type": "markdown",
      "metadata": {
        "id": "NXFavd6YNica"
      },
      "source": [
        "## Hàm Rastrigin"
      ]
    },
    {
      "cell_type": "code",
      "metadata": {
        "id": "14H8zQSLN6oO"
      },
      "source": [
        "def Rastrigin(x):\n",
        "  result = 10.0 * len(x)\n",
        "  for i in range(len(x)):\n",
        "    result += (x[i] * x[i] - 10 * np.cos(2 * np.pi * x[i]))\n",
        "\n",
        "  return result"
      ],
      "execution_count": null,
      "outputs": []
    },
    {
      "cell_type": "markdown",
      "metadata": {
        "id": "O_dH5doEzirB"
      },
      "source": [
        "## Hàm Rosenbrock"
      ]
    },
    {
      "cell_type": "code",
      "metadata": {
        "id": "IZwjeAIRzqJX"
      },
      "source": [
        "def Rosenbrock(x):\n",
        "  result = 0\n",
        "  for i in range(len(x)-1):\n",
        "    result += (100 * (x[i+1] - x[i] * x[i]) * (x[i+1] - x[i] * x[i]) + (x[i] - 1) * (x[i] - 1))\n",
        "\n",
        "  return result"
      ],
      "execution_count": null,
      "outputs": []
    },
    {
      "cell_type": "markdown",
      "metadata": {
        "id": "ZFkug6FFmz3M"
      },
      "source": [
        "## Hàm Griewank"
      ]
    },
    {
      "cell_type": "code",
      "metadata": {
        "id": "Aw6orhHOsvia"
      },
      "source": [
        "def Griewank(x):\n",
        "  sub_result = 0\n",
        "  sub_result1 = 1\n",
        "  for i in range(len(x)):\n",
        "    sub_result += (x[i] * x[i]) / 4000\n",
        "    sub_result1 *= np.cos(x[i] / np.sqrt(i+1))\n",
        "\n",
        "  return sub_result - sub_result1 + 1"
      ],
      "execution_count": null,
      "outputs": []
    },
    {
      "cell_type": "markdown",
      "metadata": {
        "id": "zMeXB4gnm60A"
      },
      "source": [
        "## Hàm Ackley"
      ]
    },
    {
      "cell_type": "code",
      "metadata": {
        "id": "lfaJv6IAvWgT"
      },
      "source": [
        "def Ackley(x):\n",
        "  sub_result = 0\n",
        "  sub_result1 = 0\n",
        "  for i in range(len(x)):\n",
        "    sub_result += x[i] * x[i]\n",
        "    sub_result1 += np.cos(2 * np.pi * x[i])\n",
        "\n",
        "  return -20 * np.exp(-0.2 * np.sqrt((1 / len(x)) * sub_result)) - np.exp((1 / len(x)) * sub_result1) + 20 + np.exp(1)"
      ],
      "execution_count": null,
      "outputs": []
    },
    {
      "cell_type": "markdown",
      "metadata": {
        "id": "1XmbYfAX8tSG"
      },
      "source": [
        "# Các hàm bổ trợ"
      ]
    },
    {
      "cell_type": "markdown",
      "metadata": {
        "id": "eEL21KGyIVs2"
      },
      "source": [
        "## Hàm tính giá trị mục tiêu"
      ]
    },
    {
      "cell_type": "code",
      "metadata": {
        "id": "bWsm2H3g9E-m"
      },
      "source": [
        "def calc_fobj_value(x, fobj_option=0):\n",
        "  result = 0\n",
        "  if fobj_option == 0:\n",
        "    result = Sphere(x)\n",
        "    return result\n",
        "  elif fobj_option == 1:\n",
        "    result = Rastrigin(x)\n",
        "    return result\n",
        "  elif fobj_option == 2:\n",
        "    result = Rosenbrock(x)\n",
        "    return result\n",
        "  elif fobj_option == 3:\n",
        "    result = Griewank(x)\n",
        "    return result\n",
        "  else:\n",
        "    result = Ackley(x)\n",
        "    return result\n",
        "  return result"
      ],
      "execution_count": null,
      "outputs": []
    },
    {
      "cell_type": "markdown",
      "metadata": {
        "id": "tPowz2OvIY9J"
      },
      "source": [
        "## Hàm lấy miền giá trị của các hàm mục tiêu"
      ]
    },
    {
      "cell_type": "code",
      "metadata": {
        "id": "gH2QSAVaEdGr"
      },
      "source": [
        "def get_domain(fobj_option=0):\n",
        "  obj_func = {0:'Sphere', 1:'Rastrigin', 2:'Rosenbrock', 3:'Griewank', 4:'Ackley'}\n",
        "  domain_func = {'Sphere': \n",
        "                 [(-5.12, 5.12)], 'Rastrigin': [(-5.12, 5.12)], 'Rosenbrock': [(-5, 10)], 'Griewank': [(-600, 600)], 'Ackley': [(-32.768, 32.768)]}\n",
        "\n",
        "  return domain_func[obj_func[fobj_option]]"
      ],
      "execution_count": null,
      "outputs": []
    },
    {
      "cell_type": "markdown",
      "metadata": {
        "id": "YIVyGehtP-Fc"
      },
      "source": [
        "## Hàm kiểm tra kết thúc thuật toán"
      ]
    },
    {
      "cell_type": "code",
      "metadata": {
        "id": "0N9cwXmTQB2I"
      },
      "source": [
        "def is_Stop(num_of_evaluations, dimensions=2):\n",
        "  if dimensions == 2:\n",
        "    if num_of_evaluations > 100000:\n",
        "      return True\n",
        "    else:\n",
        "      return False\n",
        "  else:\n",
        "    if num_of_evaluations > 1000000:\n",
        "      return True\n",
        "    else:\n",
        "      return False\n",
        "    \n",
        "  return False"
      ],
      "execution_count": null,
      "outputs": []
    },
    {
      "cell_type": "markdown",
      "metadata": {
        "id": "SavpJAkxS3Tk"
      },
      "source": [
        "## Hàm ghi chép quá trình tối ưu các hàm mục tiêu"
      ]
    },
    {
      "cell_type": "code",
      "metadata": {
        "id": "cHTUPGgvS9p8"
      },
      "source": [
        "def record(lines):\n",
        "  record_file = open('/content/drive/MyDrive/Hoc_Tap/CS410_MangNeural/Continuous_Optimization/objFuncs_optimizing_record_Sphere.txt', 'a')\n",
        "  for line in lines:\n",
        "    record_file.write(line)\n",
        "    record_file.write('\\n')\n",
        "    print(line)"
      ],
      "execution_count": null,
      "outputs": []
    },
    {
      "cell_type": "code",
      "metadata": {
        "id": "Vz_NNvi1HaZX"
      },
      "source": [
        "def optimizing_record(type_record=None, fobj_option=None, dimensions=None, popsize=None, algorithm_option=None, experiment_values=None, final_values=None):\n",
        "  obj_func = {0:'Sphere', 1:'Rastrigin', 2:'Rosenbrock', 3:'Griewank', 4:'Ackley'}\n",
        "  algorithms_dict = {0:'Different Evolution', 1:'Evolution Strategies'}\n",
        "  lines = []\n",
        "  \n",
        "  if type_record == 0:\n",
        "    line1 = '|------------------Objective Functions Optimization Record------------------|'\n",
        "    line2 = '|-----------------------------------BEGIN-----------------------------------|\\n\\n'\n",
        "    lines.append(line1)\n",
        "    lines.append(line2)\n",
        "    record(lines)\n",
        "  elif type_record == 1:\n",
        "    line = '\\n|-----------------------------------DONE-----------------------------------|'\n",
        "    lines.append(line)\n",
        "    record(lines)\n",
        "  elif type_record == 2:\n",
        "    line = f'- Objective Function: {obj_func[fobj_option]}, Dimensions: {dimensions}'\n",
        "    lines.append(line)\n",
        "    record(lines)\n",
        "  elif type_record == 3:\n",
        "    line = f'\\t- Popsize: {popsize}'\n",
        "    lines.append(line)\n",
        "    record(lines)\n",
        "  elif type_record == 4:\n",
        "    line = f'\\t\\t- Algorithm: {algorithms_dict[algorithm_option]}'\n",
        "    lines.append(line)\n",
        "    record(lines)\n",
        "  elif type_record == 5:\n",
        "    line1 = f'\\t\\t\\t- Seed: {experiment_values[0]}'\n",
        "    line2 = f'\\t\\t\\t\\tBest Answer: {experiment_values[1][0]}'\n",
        "    line3 = f'\\t\\t\\t\\tObjective Function Value: {experiment_values[1][1]}'\n",
        "    lines.append(line1)\n",
        "    lines.append(line2)\n",
        "    lines.append(line3)\n",
        "    record(lines)\n",
        "  elif type_record == 6:\n",
        "    line1 = f'\\t\\t\\t- Mean Objective Function Value: {final_values[0]}'\n",
        "    line2 = f'\\t\\t\\t- Standard Objective Function Value: {final_values[1]}\\n'\n",
        "    lines.append(line1)\n",
        "    lines.append(line2)\n",
        "    record(lines)"
      ],
      "execution_count": null,
      "outputs": []
    },
    {
      "cell_type": "markdown",
      "metadata": {
        "id": "L8P3CNTvcSxo"
      },
      "source": [
        "## Hàm vẽ đồ thị hội tụ"
      ]
    },
    {
      "cell_type": "code",
      "metadata": {
        "id": "TfMyXcwxcZxd"
      },
      "source": [
        "def plot_converging_graph(x, mean_value, std_value, object_function, dimensions):\n",
        "    plt.figure(figsize=(10,8))\n",
        "    plt.plot(x, mean_value[0], 'b', label='DE with n = 128')\n",
        "    plt.plot(x, mean_value[1], 'r', label='ES with n = 128')\n",
        "    plt.plot(x, mean_value[2], 'g', label='DE with n = 1024')\n",
        "    plt.plot(x, mean_value[3], 'violet', label='ES with n = 1024')\n",
        "    plt.fill_between(x, mean_value[0]-std_value[0], mean_value[0]+std_value[0], facecolor=(0,0,1,0.3))\n",
        "    plt.fill_between(x, mean_value[1]-std_value[1], mean_value[1]+std_value[1], facecolor=(1,0,0,0.3))\n",
        "    plt.fill_between(x, mean_value[2]-std_value[2], mean_value[2]+std_value[2], facecolor=(0,1,0,0.3))\n",
        "    plt.fill_between(x, mean_value[3]-std_value[3], mean_value[3]+std_value[3], facecolor='violet', alpha=0.3)\n",
        "    plt.xlabel('Number of Evaluation Call')\n",
        "    plt.ylabel('Objective Function')\n",
        "    plt.title(f'Errorbar_f_{object_function} with d={dimensions}')\n",
        "    plt.legend()\n",
        "    plt.savefig(f'/content/drive/MyDrive/Hoc_Tap/CS410_MangNeural/Continuous_Optimization/graphs/{object_function}_{dimensions}.png')\n",
        "    # plt.show()"
      ],
      "execution_count": null,
      "outputs": []
    },
    {
      "cell_type": "markdown",
      "metadata": {
        "id": "vyHwhwaWV_ws"
      },
      "source": [
        "## Hàm tạo file gif"
      ]
    },
    {
      "cell_type": "code",
      "metadata": {
        "id": "lZth-32gV-oo"
      },
      "source": [
        "def animate(i, ln, ax, all_pops):\n",
        "  population = all_pops[i]\n",
        "  ln.set_data(population[:,0],population[:,1])\n",
        "  \n",
        "  return ln,"
      ],
      "execution_count": null,
      "outputs": []
    },
    {
      "cell_type": "code",
      "metadata": {
        "id": "v1Q5cshAy0JS"
      },
      "source": [
        "def create_gif(all_pops, fobj_option, file_name, dimensions=2):\n",
        "  lower_bound, upper_bound = np.asarray(get_domain(fobj_option)*dimensions).T\n",
        "  X = np.linspace(lower_bound, upper_bound, 100)\n",
        "  Y = np.linspace(lower_bound, upper_bound, 100)\n",
        "  X, Y = np.meshgrid(X, Y)\n",
        "\n",
        "  Z = np.asarray(calc_fobj_value([X, Y], fobj_option))\n",
        "\n",
        "  fig, ax = plt.subplots(figsize=(10,10))\n",
        "  cp = ax.contourf(X, Y, Z, 20, cmap='viridis', alpha=0.8)\n",
        "  cp = ax.scatter(0.0, 0.0,s=50, marker='*', c='r') \n",
        "  ln, = plt.plot([],[], '.w')\n",
        "  anim = FuncAnimation(fig, animate, fargs = (ln, ax, all_pops),\n",
        "                              frames=50, interval=20, blit=True)\n",
        "  \n",
        "  anim.save(file_name, writer='pillow', fps=5)\n",
        "\n",
        "  # plt.show()"
      ],
      "execution_count": null,
      "outputs": []
    },
    {
      "cell_type": "markdown",
      "metadata": {
        "id": "EtlzOrDJByIM"
      },
      "source": [
        "# Thuật toán Differential Evolution (DE)"
      ]
    },
    {
      "cell_type": "code",
      "metadata": {
        "id": "Ky4wSyCbBveA"
      },
      "source": [
        "def DE(fobj_option=0, dimensions=2, F_scale=0.8, cross_prob=0.7, popsize=32, max_iters=100):\n",
        "  num_of_evaluations = 0\n",
        "\n",
        "  lower_bound, upper_bound = np.asarray(get_domain(fobj_option)*dimensions).T\n",
        "\n",
        "  diff = np.fabs(lower_bound - upper_bound)\n",
        "\n",
        "  pop = lower_bound + diff * np.random.rand(popsize, dimensions)\n",
        "\n",
        "  fitness = np.asarray([calc_fobj_value(ind, fobj_option) for ind in pop])\n",
        "  num_of_evaluations += popsize\n",
        "\n",
        "  best_idx = np.argmin(fitness)\n",
        "  best = pop[best_idx]\n",
        "\n",
        "  results = []\n",
        "  all_pops = []\n",
        "  results.append((best.copy().tolist(), fitness[best_idx]))\n",
        "  all_pops.append(np.copy(pop))\n",
        "\n",
        "  while not is_Stop(num_of_evaluations, dimensions):\n",
        "    for j in range(popsize):\n",
        "      idxs = [idx for idx in range(popsize) if idx != j]\n",
        "      a, b, c = pop[np.random.choice(idxs, 3, replace=True)]\n",
        "      mutant = np.clip(a + F_scale * (b - c), lower_bound, upper_bound)\n",
        "\n",
        "      cross_points = np.random.rand(dimensions) < cross_prob\n",
        "      if not np.any(cross_points):\n",
        "        cross_points[np.random.randint(0, dimensions)] = True\n",
        "\n",
        "      trial = np.where(cross_points, mutant, pop[j])\n",
        "      f = calc_fobj_value(trial, fobj_option)\n",
        "      num_of_evaluations += 1\n",
        "\n",
        "      if f < fitness[j]:\n",
        "        pop[j] = trial\n",
        "        fitness[j] = f\n",
        "        if f < fitness[best_idx]:\n",
        "          best = trial\n",
        "          best_idx = j\n",
        "    \n",
        "    results.append((best.copy().tolist(), fitness[best_idx]))\n",
        "    all_pops.append(np.copy(pop))\n",
        "\n",
        "  results = np.asarray(results)\n",
        "  all_pops = np.asarray(all_pops)\n",
        "\n",
        "  return results, all_pops, num_of_evaluations"
      ],
      "execution_count": null,
      "outputs": []
    },
    {
      "cell_type": "markdown",
      "metadata": {
        "id": "t43wJf9agcpZ"
      },
      "source": [
        "# Thuật toán Evolution Strategies (ES)"
      ]
    },
    {
      "cell_type": "code",
      "metadata": {
        "id": "qF5CWTHB3wxl"
      },
      "source": [
        "def ES(fobj_option=0, dimensions=2, sigma_init=1.0, c_inc=1.1, c_dec=0.6, popsize=32, max_iters=100):\n",
        "  num_of_evaluations = 0\n",
        "\n",
        "  lower_bound, upper_bound = np.asarray(get_domain(fobj_option)*dimensions).T\n",
        "\n",
        "  diff = np.fabs(lower_bound - upper_bound)\n",
        "\n",
        "  mu = lower_bound + diff * np.random.rand(dimensions)\n",
        "  mu_fitness = calc_fobj_value(mu, fobj_option)\n",
        "  num_of_evaluations += 1\n",
        "  \n",
        "  results = []\n",
        "  all_pops = []\n",
        "  results.append((mu.copy().tolist(), mu_fitness))\n",
        "  sigma = sigma_init\n",
        "\n",
        "  while not is_Stop(num_of_evaluations, dimensions):\n",
        "    epsilon = np.random.randn(popsize, dimensions)\n",
        "    offspring = mu + sigma * epsilon\n",
        "    offspring = np.clip(offspring, lower_bound, upper_bound)\n",
        "    offspring_fitness = np.asarray([calc_fobj_value(offspring[i], fobj_option) for i in range(popsize)])\n",
        "    num_of_evaluations += popsize\n",
        "\n",
        "    best_idx = offspring_fitness.argmin()\n",
        "    best_fitness = offspring_fitness[best_idx]\n",
        "    best_offspring = offspring[best_idx]\n",
        "\n",
        "    if best_fitness <= mu_fitness:\n",
        "      mu = best_offspring.copy()\n",
        "      mu_fitness = best_fitness\n",
        "      sigma *= c_inc\n",
        "    else:\n",
        "      sigma *= c_dec\n",
        "\n",
        "    results.append((mu.copy().tolist(), mu_fitness))\n",
        "    all_pops.append(np.copy(offspring))\n",
        "\n",
        "  results = np.asarray(results)\n",
        "  all_pops = np.asarray(all_pops)\n",
        "\n",
        "  return results, all_pops, num_of_evaluations"
      ],
      "execution_count": null,
      "outputs": []
    },
    {
      "cell_type": "markdown",
      "metadata": {
        "id": "okzGTzzE3ImD"
      },
      "source": [
        "# Chạy và đánh giá kết quả"
      ]
    },
    {
      "cell_type": "markdown",
      "metadata": {
        "id": "eWOWMY2BoJTM"
      },
      "source": [
        "## Hàm chạy thực nghiệm"
      ]
    },
    {
      "cell_type": "code",
      "metadata": {
        "id": "dsBjQ2JVVsFl"
      },
      "source": [
        "def run_experiments(fobj_option=0, dimensions=2, popsize=32, algorithm_option=0):\n",
        "  mssv = 19521943\n",
        "\n",
        "  fobj_value_lst = []\n",
        "  # num_of_evaluations_lst = []\n",
        "  mean_obj_funcs_lst = []\n",
        "  std_obj_funcs_lst = []\n",
        "  best_fobj_value = sys.maxsize\n",
        "  best_all_pops = None\n",
        "  results_lst = []\n",
        "\n",
        "  for i in range(mssv, mssv+10):\n",
        "    np.random.rand(i)\n",
        "    if algorithm_option == 0:\n",
        "      results, all_pops, num_of_evaluations = DE(fobj_option=fobj_option, dimensions=dimensions, popsize=popsize)\n",
        "    elif algorithm_option == 1:\n",
        "      results, all_pops, num_of_evaluations = ES(fobj_option=fobj_option, dimensions=dimensions, popsize=popsize)\n",
        "    optimizing_record(type_record=5, experiment_values=[i, results[-1]])\n",
        "    results_lst.append(results.tolist())\n",
        "\n",
        "    if results[-1][-1] < best_fobj_value:\n",
        "      best_fobj_value = results[-1:1]\n",
        "      best_all_pops = np.copy(all_pops)\n",
        "      \n",
        "    fobj_value_lst.append(results[:,1])\n",
        "    # num_of_evaluations_lst.append(num_of_evaluations)\n",
        "\n",
        "  fobj_value_lst = np.asarray(fobj_value_lst)\n",
        "  # num_of_evaluations_lst = np.asarray(num_of_evaluations_lst)\n",
        "\n",
        "  for i in range(fobj_value_lst.shape[1]):\n",
        "    obj_funcs_lst = ([x[i] for x in fobj_value_lst])\n",
        "    mean_obj_funcs_lst.append(round(np.mean(obj_funcs_lst), 2))\n",
        "    std_obj_funcs_lst.append(round(np.std(obj_funcs_lst), 2))\n",
        "  optimizing_record(type_record=6, final_values=[mean_obj_funcs_lst[-1], std_obj_funcs_lst[-1]])\n",
        "\n",
        "  mean_obj_funcs_lst = np.asarray(mean_obj_funcs_lst)\n",
        "  std_obj_funcs_lst = np.asarray(std_obj_funcs_lst)\n",
        "\n",
        "  return mean_obj_funcs_lst, std_obj_funcs_lst, num_of_evaluations, best_all_pops, results_lst"
      ],
      "execution_count": null,
      "outputs": []
    },
    {
      "cell_type": "markdown",
      "metadata": {
        "id": "GC_ElSSJoL3N"
      },
      "source": [
        "## Chạy thực nghiệm và ghi chú kết quả"
      ]
    },
    {
      "cell_type": "markdown",
      "metadata": {
        "id": "4_xan2z-9wWX"
      },
      "source": [
        "### Tạo các bộ thực nghiệm"
      ]
    },
    {
      "cell_type": "code",
      "metadata": {
        "id": "XBaoHv0KpU9V"
      },
      "source": [
        "fobjs_lst = [0]\n",
        "dimensions_lst = [2, 10]\n",
        "\n",
        "experiments_lst = []\n",
        "for fobj in fobjs_lst:\n",
        "  for dimensions in dimensions_lst:\n",
        "    experiments_lst.append((fobj, dimensions))"
      ],
      "execution_count": null,
      "outputs": []
    },
    {
      "cell_type": "markdown",
      "metadata": {
        "id": "iyvytz8Z927j"
      },
      "source": [
        "### Chạy"
      ]
    },
    {
      "cell_type": "code",
      "metadata": {
        "id": "LVp0DJes9u7y"
      },
      "source": [
        "obj_func = {0:'Sphere', 1:'Rastrigin', 2:'Rosenbrock', 3:'Griewank', 4:'Ackley'}\n",
        "header = ['Popsize N/Lambda', 'mean_DE', 'std_DE', 'numEva_DE', 'mean_ES', 'std_ES', 'numEva_ES']\n",
        "algorithms_dict = {0:'DE', 1:'ES'}\n",
        "popsizes_lst = [32, 64, 128, 256, 512, 1024]\n",
        "algorithms_lst = [0, 1]\n",
        "path = '/content/drive/MyDrive/Hoc_Tap/CS410_MangNeural/Continuous_Optimization/'\n",
        "\n",
        "optimizing_record(type_record=0)\n",
        "for fobj_option, dimensions in experiments_lst:\n",
        "  optimizing_record(type_record=2, fobj_option=fobj_option, dimensions=dimensions)\n",
        "\n",
        "  file_name = f'{path}results_of_the_best_solution/{obj_func[fobj_option]}_{dimensions}.csv'\n",
        "  fi = open(file_name, 'w')\n",
        "  writer = csv.writer(fi)\n",
        "  writer.writerow(header)\n",
        "\n",
        "  result = []\n",
        "  for popsize in popsizes_lst:\n",
        "    optimizing_record(type_record=3, popsize=popsize)\n",
        "    \n",
        "    best_value= []\n",
        "    for algorithm_option in algorithms_lst:\n",
        "      optimizing_record(type_record=4, algorithm_option=algorithm_option)\n",
        "\n",
        "      mean_obj_funcs_lst, std_obj_funcs_lst, num_of_evaluations, all_pops, results_lst = run_experiments(fobj_option,dimensions,popsize,algorithm_option)\n",
        "\n",
        "      best_value.append(mean_obj_funcs_lst[-1])\n",
        "      best_value.append(std_obj_funcs_lst[-1])\n",
        "      best_value.append(num_of_evaluations)\n",
        "\n",
        "      \n",
        "      if popsize == 128:\n",
        "        data = {}\n",
        "        data[f'{algorithms_dict[algorithm_option]}_128'] = {'Results_lst': results_lst}\n",
        "        result.append(data)\n",
        "      elif popsize == 1024:\n",
        "        data = {}\n",
        "        data[f'{algorithms_dict[algorithm_option]}_1024'] = {'Results_lst': results_lst}\n",
        "        result.append(data)\n",
        "\n",
        "      if dimensions == 2:\n",
        "        pops_result = {'all_pops': all_pops.tolist()}\n",
        "        algorithms_dict = {0:'DE', 1:'ES'}\n",
        "\n",
        "        with open(f'{path}results_2_create_gif_file/{obj_func[fobj_option]}_{popsize}_{algorithms_dict[algorithm_option]}_pops.txt', 'w') as outfile:\n",
        "          json.dump(pops_result, outfile)\n",
        "        outfile.close()\n",
        "\n",
        "    best_value.insert(0, popsize) \n",
        "    writer.writerow(best_value)\n",
        "\n",
        "  with open(f'{path}results_2_graph/{obj_func[fobj_option]}_{dimensions}_v4p.txt', 'w') as outfile:\n",
        "    json.dump(result, outfile)\n",
        "  outfile.close()\n",
        "\n",
        "  fi.close()\n",
        "optimizing_record(type_record=1)"
      ],
      "execution_count": null,
      "outputs": []
    },
    {
      "cell_type": "markdown",
      "metadata": {
        "id": "EbqfBDalqUQt"
      },
      "source": [
        "## Trực quan hóa kết quả"
      ]
    },
    {
      "cell_type": "markdown",
      "metadata": {
        "id": "P6gacizWePA5"
      },
      "source": [
        "### Vẽ đồ thị hội tụ"
      ]
    },
    {
      "cell_type": "code",
      "metadata": {
        "id": "69NxRXM90pas"
      },
      "source": [
        "obj_func = {0:'Sphere', 1:'Rastrigin', 2:'Rosenbrock', 3:'Griewank', 4:'Ackley'}\n",
        "algoSize_dict = {0: 'DE_128', 1:'ES_128', 2:'DE_1024', 3:'ES_1024'}\n",
        "numEva_lst_10 = {0: 1000064, 1: 1000065, 2: 1000448, 3: 1000449}\n",
        "numEva_lst_2 = {0: 100096, 1: 100097, 2: 100352, 3: 100353}\n",
        "dimensions_dict = {2: 50000, 10: 500000}\n",
        "path = '/content/drive/MyDrive/Hoc_Tap/CS410_MangNeural/Continuous_Optimization/results_2_graph/'\n",
        "\n",
        "for ext in ['*.txt']:\n",
        "  all_files = glob2.glob(os.path.join(path, ext))\n",
        "\n",
        "for file in all_files:\n",
        "  with open(file) as json_file:\n",
        "    data = json.load(json_file)\n",
        "\n",
        "    mean_fobj_lst = []\n",
        "    std_fobj_lst = []\n",
        "    obj_func, dimensions, _ = file.split('/')[-1].split('_')\n",
        "    dimensions = int(dimensions)\n",
        "    x = np.arange(0,dimensions_dict[dimensions],dimensions_dict[dimensions]//100)\n",
        "\n",
        "    for i in range(len(data)):\n",
        "      fobj_interp_lst = []\n",
        "      results = data[i][algoSize_dict[i]]['Results_lst']\n",
        "\n",
        "      for seed in range(len(results)):\n",
        "        result = results[seed]\n",
        "        fobj = np.array([result[gene][-1] for gene in range(len(result))])\n",
        "\n",
        "        if dimensions == 2:\n",
        "          num_eva = np.arange(0, numEva_lst_2[i], int(algoSize_dict[i].split('_')[-1]))\n",
        "        elif dimensions == 10:\n",
        "          num_eva = np.arange(0, numEva_lst_10[i], int(algoSize_dict[i].split('_')[-1]))\n",
        "\n",
        "        fobj_interp = np.interp(x, num_eva, fobj)\n",
        "        fobj_interp_lst.append(fobj_interp)\n",
        "      fobj_interp_lst = np.array(fobj_interp_lst)\n",
        "        \n",
        "      mean_fobj = []\n",
        "      std_fobj = []\n",
        "      for seed in range(fobj_interp_lst.shape[1]):\n",
        "        temp = [x[seed] for x in fobj_interp_lst]\n",
        "        mean_fobj.append(np.mean(temp))\n",
        "        std_fobj.append(np.std(temp))\n",
        "      mean_fobj = np.array(mean_fobj)\n",
        "      std_fobj = np.array(std_fobj)\n",
        "      \n",
        "      mean_fobj_lst.append(mean_fobj)\n",
        "      std_fobj_lst.append(std_fobj)\n",
        "\n",
        "    plot_converging_graph(x, mean_fobj_lst, std_fobj_lst, obj_func, dimensions)"
      ],
      "execution_count": null,
      "outputs": []
    },
    {
      "cell_type": "markdown",
      "metadata": {
        "id": "upVbqjp9eYIK"
      },
      "source": [
        "### Tạo file gif"
      ]
    },
    {
      "cell_type": "code",
      "metadata": {
        "id": "eXOYwhsiK7uN"
      },
      "source": [
        "obj_func_dict = {'Sphere': 0, 'Rastrigin': 1, 'Rosenbrock': 2, 'Griewank': 3, 'Ackley': 4}\n",
        "input_path = '/content/drive/MyDrive/Hoc_Tap/CS410_MangNeural/Continuous_Optimization/results_2_create_gif_file/'\n",
        "output_path = '/content/drive/MyDrive/Hoc_Tap/CS410_MangNeural/Continuous_Optimization/gif_files/'\n",
        "\n",
        "for ext in ['*.txt']:\n",
        "  all_files = glob2.glob(os.path.join(input_path, ext))\n",
        "\n",
        "for file in all_files:\n",
        "  with open(file) as json_file:\n",
        "    data = json.load(json_file)\n",
        "    file_name = output_path + file.split('/')[-1].split('.')[0] + '.gif'\n",
        "    obj_func = file.split('/')[-1].split('_')[0]\n",
        "    create_gif(np.array(data['all_pops']), obj_func_dict[obj_func], file_name)\n",
        "    print(f'Done: {file_name}')"
      ],
      "execution_count": null,
      "outputs": []
    }
  ]
}