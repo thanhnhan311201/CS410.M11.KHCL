{
  "nbformat": 4,
  "nbformat_minor": 0,
  "metadata": {
    "anaconda-cloud": {},
    "kernelspec": {
      "display_name": "Python [Root]",
      "language": "python",
      "name": "Python [Root]"
    },
    "language_info": {
      "codemirror_mode": {
        "name": "ipython",
        "version": 2
      },
      "file_extension": ".py",
      "mimetype": "text/x-python",
      "name": "python",
      "nbconvert_exporter": "python",
      "pygments_lexer": "ipython2",
      "version": "2.7.12"
    },
    "colab": {
      "name": "GA_OneMax.ipynb",
      "provenance": [],
      "collapsed_sections": []
    }
  },
  "cells": [
    {
      "cell_type": "code",
      "metadata": {
        "collapsed": true,
        "id": "YZJ3R7zjmMLp"
      },
      "source": [
        "import numpy as np"
      ],
      "execution_count": null,
      "outputs": []
    },
    {
      "cell_type": "code",
      "metadata": {
        "id": "hUhEE84VmMLr"
      },
      "source": [
        "def initialize_population( num_individuals, num_variables ):\n",
        "    \"\"\"\n",
        "    Khởi tạo quần thể gồm num_individuals cá thể. Mỗi cá thể có num_parameters biến.\n",
        "    \n",
        "    Arguments:\n",
        "    num_individuals -- Số lượng cá thể\n",
        "    num_variables -- Số lượng biến\n",
        "    \n",
        "    Returns:\n",
        "    pop -- Ma trận (num_individuals, num_variables\u001d) chứa quần thể mới được khởi tạo ngẫu nhiên.\n",
        "    \"\"\"\n",
        "    \n",
        "    ### BẮT ĐẦU CODE TỪ ĐÂY ### \n",
        "    pop = np.random.randint(2, size=(num_individuals, num_variables))\n",
        "    \n",
        "    ### DỪNG CODE TẠI ĐÂY ###\n",
        "    \n",
        "    return pop"
      ],
      "execution_count": null,
      "outputs": []
    },
    {
      "cell_type": "code",
      "metadata": {
        "id": "poknDwSSmMLs"
      },
      "source": [
        "def onemax( ind ):\n",
        "    \"\"\"\n",
        "    Hàm đánh giá OneMax: Đếm số bit 1 trong chuỗi nhị phân (cá thể ind).\n",
        "    \n",
        "    Arguments:\n",
        "    ind -- Cá thể cần được đánh giá.\n",
        "\n",
        "    Returns:\n",
        "    value -- Giá trị của cá thể ind.\n",
        "    \"\"\"\n",
        "    \n",
        "    ### BẮT ĐẦU CODE TỪ ĐÂY ###     \n",
        "    value = np.sum(ind)\n",
        "    \n",
        "    ### DỪNG CODE TẠI ĐÂY ###\n",
        "    \n",
        "    return value"
      ],
      "execution_count": null,
      "outputs": []
    },
    {
      "cell_type": "code",
      "metadata": {
        "id": "Q-xYm-5zmMLu"
      },
      "source": [
        "def evaluate_population( pop ):\n",
        "    \"\"\"\n",
        "    Hàm đánh giá tất cả cá thể trong quần thể.\n",
        "    \n",
        "    Arguments:\n",
        "    pop -- Quàn thể cần được đánh giá.\n",
        "\n",
        "    Returns:\n",
        "    values -- Giá trị của tất cả các cá thể trong quần thể.\n",
        "    \"\"\" \n",
        "\n",
        "    ### BẮT ĐẦU CODE TỪ ĐÂY ### \n",
        "    values = np.array([onemax(ind) for ind in pop])\n",
        "    \n",
        "    ### DỪNG CODE TẠI ĐÂY ###\n",
        "    \n",
        "    return values"
      ],
      "execution_count": null,
      "outputs": []
    },
    {
      "cell_type": "code",
      "metadata": {
        "id": "xdWzIquvmMLv"
      },
      "source": [
        "def better_fitness( fitness_1, fitness_2, maximization=True ):\n",
        "    \"\"\"\n",
        "    Hàm so sánh độ thích nghi của 2 cá thể.\n",
        "    \n",
        "    Arguments:\n",
        "    fitness_1 -- Độ thích nghi của cá thể 1.\n",
        "    fitness_2 -- Độ thích nghi của cá thể 2.\n",
        "    maximization -- Biến boolean cho biết bài toán đang giải thuộc dạng tối đa hoá (mặc định) hay không\n",
        "    \n",
        "    Returns:\n",
        "    True nếu fitness_1 tốt hơn fitness_2. Ngược lại, trả về False.\n",
        "    \"\"\"\n",
        "    \n",
        "    if maximization:\n",
        "        if fitness_1 > fitness_2:\n",
        "            return True\n",
        "    else:\n",
        "        if fitness_1 < fitness_2:\n",
        "            return True\n",
        "        \n",
        "    return False"
      ],
      "execution_count": null,
      "outputs": []
    },
    {
      "cell_type": "code",
      "metadata": {
        "id": "aPVYVkGwmMLv"
      },
      "source": [
        "def tournament_selection( pop, pop_fitness, selection_size, tournament_size):\n",
        "    \"\"\"\n",
        "    Hàm chọn lọc cạnh tranh.\n",
        "    \n",
        "    Arguments:\n",
        "    pop -- Quần thể để thực hiện phép chọn lọc.\n",
        "    pop_fitness -- Mảng 1 chiều chứa giá trị (độ thích nghi) của từng cá thể trong quần thể.\n",
        "    selection_size -- Số lượng cá thể \u001dsẽ được chọn.\n",
        "    tournament_size -- Kích thước của tournament: Số lượng các cá thể được so sánh với nhau mỗi lần.\n",
        "    \n",
        "    Returns:\n",
        "    selected_indices -- Chỉ số của những cá thể trong quần thể pop được chọn. Chỉ số có thể được lặp lại.\n",
        "    \"\"\"\n",
        "    \n",
        "    ### BẮT ĐẦU CODE TỪ ĐÂY ### \n",
        "    num_individuals = len(pop)\n",
        "    indices = np.arange(num_individuals)\n",
        "    selected_indices = []\n",
        "    \n",
        "    while len(selected_indices) < selection_size:\n",
        "        # Đảo ngẫu nhiên thứ tự các cá thể trong quần thể.\n",
        "        np.random.shuffle(indices)\n",
        "        \n",
        "        for i in range(0, num_individuals, tournament_size):\n",
        "          best_idx = i\n",
        "          for idx in range(1, tournament_size):\n",
        "            if better_fitness(pop_fitness[indices[i+idx]], pop_fitness[indices[best_idx]]):\n",
        "              best_idx = i + idx\n",
        "          selected_indices.append(indices[best_idx])\n",
        "    \n",
        "    selected_indices = np.array(selected_indices)        \n",
        "\n",
        "    ### DỪNG CODE TẠI ĐÂY ###\n",
        "    \n",
        "    return selected_indices"
      ],
      "execution_count": null,
      "outputs": []
    },
    {
      "cell_type": "code",
      "metadata": {
        "id": "Ge94BH6_mMLx"
      },
      "source": [
        "def variation( pop ):\n",
        "    \"\"\"\n",
        "    Hàm biến đổi tạo ra các cá thể con.\n",
        "    \n",
        "    Arguments:\n",
        "    pop -- Quàn thể hiện tại.\n",
        "\n",
        "    Returns:\n",
        "    offspring -- Quần thể chứa các cá thể con được sinh ra.\n",
        "    \"\"\"  \n",
        "    \n",
        "    ### BẮT ĐẦU CODE TỪ ĐÂY ### \n",
        "    num_individuals = len(pop)\n",
        "    num_parameters = len(pop[0])\n",
        "    indices = np.arange(num_individuals)\n",
        "    # Đảo ngẫu nhiên thứ tự các cá thể trong quần thể\n",
        "    np.random.shuffle(indices)\n",
        "    offspring = []\n",
        "    \n",
        "    for i in range(0, num_individuals, 2):\n",
        "        idx1 = indices[i]\n",
        "        idx2 = indices[i+1]\n",
        "        offspring1 = list(pop[idx1])\n",
        "        offspring2 = list(pop[idx2])\n",
        "        \n",
        "        # Cài đặt phép lai đồng nhất uniform crossover. \n",
        "        # Không cần cài đặt đột biến mutation.\n",
        "        for idx in range(0, num_parameters):\n",
        "          r = np.random.rand()\n",
        "          if r < 0.5:\n",
        "            temp = offspring2[idx]\n",
        "            offspring2[idx] = offspring1[idx]\n",
        "            offspring1[idx] = temp\n",
        "\n",
        "        offspring.append(offspring1)\n",
        "        offspring.append(offspring2)\n",
        "\n",
        "\n",
        "    ### DỪNG CODE TẠI ĐÂY ###\n",
        "    \n",
        "    offspring = np.array(offspring)\n",
        "    return offspring"
      ],
      "execution_count": null,
      "outputs": []
    },
    {
      "cell_type": "code",
      "metadata": {
        "id": "f48pgHskmMLy"
      },
      "source": [
        "def popop(num_individuals, num_parameters, num_generations):\n",
        "    \"\"\"\n",
        "    Hàm cài đặt thuật giải di truyền theo các bước P->O->(P+O)->P\n",
        "    \n",
        "    Arguments:\n",
        "    num_individuals -- Số lượng cá thể trong quần thể.\n",
        "    num_parameters -- Số lượng biến.\n",
        "    num_generations -- Số thế hệ thuật toán sẽ chạy.\n",
        "\n",
        "    Returns:\n",
        "    In ra quần thể ở thế hệ cuối cùng và giá trị của từng cá thể.\n",
        "    \"\"\" \n",
        "\n",
        "    ### BẮT ĐẦU CODE TỪ ĐÂY ### \n",
        "    # Khởi tạo quần thể\n",
        "    pop = initialize_population(num_individuals, num_parameters)\n",
        "    pop_fitness = evaluate_population(pop)\n",
        "    # print(\"#Gen 0:\")\n",
        "    # print(pop)\n",
        "    # print(pop_fitness)\n",
        "    \n",
        "    # Sử dụng tournament_size 4 và selection_size là bằng kích thước quần thể\n",
        "    selection_size = len(pop)\n",
        "    tournament_size = 4\n",
        "\n",
        "    for i in range(num_generations):\n",
        "        # Tạo ra các cá thể con và đánh giá chúng\n",
        "        offspring = variation(pop)\n",
        "        offspring_fitness = evaluate_population(offspring)\n",
        "        \n",
        "        # Tạo ra quần thể pool gồm quần thể hiện tại pop và offspring\n",
        "        pool = np.vstack((pop,offspring))\n",
        "        pool_fitness = np.hstack((pop_fitness, offspring_fitness))\n",
        "\n",
        "        # Thực hiện tournament selection trên quần thể pool \n",
        "        pool_indices = tournament_selection(pool, pool_fitness, selection_size, tournament_size)\n",
        "\n",
        "        # Thay thế quần thể hiện tại bằng những cá thể được chọn ra từ pool.\n",
        "        pop = pool[pool_indices, :]\n",
        "        pop_fitness = pool_fitness[pool_indices]\n",
        "        # print(\"#Gen {}:\".format(i+1))\n",
        "        # print(pop_fitness)\n",
        "\n",
        "    ### DỪNG CODE TẠI ĐÂY ###\n",
        "    # print(\"#Result:\")\n",
        "    # print(pop)\n",
        "    # print(pop_fitness)\n",
        "\n",
        "    return pop_fitness"
      ],
      "execution_count": null,
      "outputs": []
    },
    {
      "cell_type": "code",
      "metadata": {
        "collapsed": true,
        "id": "Qtt85MlrmML4"
      },
      "source": [
        "def evaluate_algorithm(num_individuals, num_parameters, num_generations):\n",
        "  count = 0\n",
        "  for i in range(30):\n",
        "    np.random.seed(i)\n",
        "    final_offspring = popop(num_individuals, num_parameters, num_generations)\n",
        "    if num_parameters in final_offspring:\n",
        "      count +=1\n",
        "\n",
        "  return count"
      ],
      "execution_count": null,
      "outputs": []
    },
    {
      "cell_type": "code",
      "metadata": {
        "id": "9O1avjQKmML0",
        "colab": {
          "base_uri": "https://localhost:8080/"
        },
        "outputId": "361c68ff-6a99-47a1-b15f-ae9f35518fd0"
      },
      "source": [
        "# Trường hợp kích thước quần thể là 4\n",
        "np.random.seed(1)\n",
        "num_parameters = 20\n",
        "num_individuals = 4\n",
        "num_generations = 10\n",
        "popop(num_individuals, num_parameters, num_generations)"
      ],
      "execution_count": null,
      "outputs": [
        {
          "output_type": "stream",
          "name": "stdout",
          "text": [
            "#Gen 0:\n",
            "[11  8 13 11]\n",
            "#Gen 1:\n",
            "[13 13 13 13]\n",
            "#Gen 2:\n",
            "[15 13 15 14]\n",
            "#Gen 3:\n",
            "[15 16 16 15]\n",
            "#Gen 4:\n",
            "[16 16 16 16]\n",
            "#Gen 5:\n",
            "[16 16 16 16]\n",
            "#Gen 6:\n",
            "[16 16 16 16]\n",
            "#Gen 7:\n",
            "[16 16 16 16]\n",
            "#Gen 8:\n",
            "[16 16 16 16]\n",
            "#Gen 9:\n",
            "[16 16 16 16]\n",
            "#Gen 10:\n",
            "[16 16 16 16]\n",
            "#Result:\n",
            "[[1 1 1 0 1 1 1 1 1 0 1 1 0 1 1 1 1 1 1 0]\n",
            " [1 1 1 0 1 1 1 1 1 0 1 1 0 1 1 1 1 1 1 0]\n",
            " [1 1 1 0 1 1 1 1 1 0 1 1 0 1 1 1 1 1 1 0]\n",
            " [1 1 1 0 1 1 1 1 1 0 1 1 0 1 1 1 1 1 1 0]]\n",
            "[16 16 16 16]\n"
          ]
        }
      ]
    },
    {
      "cell_type": "code",
      "metadata": {
        "id": "WB7EvfcKmML1",
        "colab": {
          "base_uri": "https://localhost:8080/"
        },
        "outputId": "d05a88ab-0abe-4e7a-c21b-322ed4c67848"
      },
      "source": [
        "# Trường hợp kích thước quần thể là 8\n",
        "np.random.seed(1)\n",
        "num_parameters = 20\n",
        "num_individuals = 8\n",
        "num_generations = 10\n",
        "popop(num_individuals, num_parameters, num_generations)"
      ],
      "execution_count": null,
      "outputs": [
        {
          "output_type": "stream",
          "name": "stdout",
          "text": [
            "#Gen 0:\n",
            "[11  8 13 11 12 10 12  9]\n",
            "#Gen 1:\n",
            "[12 13 13 13 13 12 13 12]\n",
            "#Gen 2:\n",
            "[13 15 14 13 14 13 13 15]\n",
            "#Gen 3:\n",
            "[15 15 15 17 17 14 15 15]\n",
            "#Gen 4:\n",
            "[17 17 17 17 17 17 15 17]\n",
            "#Gen 5:\n",
            "[17 17 18 18 18 17 17 17]\n",
            "#Gen 6:\n",
            "[18 18 18 18 17 18 18 18]\n",
            "#Gen 7:\n",
            "[18 18 18 18 18 18 18 18]\n",
            "#Gen 8:\n",
            "[19 18 19 18 19 19 18 19]\n",
            "#Gen 9:\n",
            "[19 19 19 19 19 19 19 19]\n",
            "#Gen 10:\n",
            "[19 19 19 19 19 19 19 19]\n",
            "#Result:\n",
            "[[1 1 1 1 1 1 1 1 1 1 0 1 1 1 1 1 1 1 1 1]\n",
            " [1 1 1 1 1 1 1 1 1 1 0 1 1 1 1 1 1 1 1 1]\n",
            " [1 1 1 1 1 1 1 1 1 1 0 1 1 1 1 1 1 1 1 1]\n",
            " [1 1 1 1 1 1 1 1 1 1 0 1 1 1 1 1 1 1 1 1]\n",
            " [1 1 1 1 1 1 1 1 1 1 0 1 1 1 1 1 1 1 1 1]\n",
            " [1 1 1 1 1 1 1 1 1 1 0 1 1 1 1 1 1 1 1 1]\n",
            " [1 1 1 1 1 1 1 1 1 1 0 1 1 1 1 1 1 1 1 1]\n",
            " [1 1 1 1 1 1 1 1 1 1 0 1 1 1 1 1 1 1 1 1]]\n",
            "[19 19 19 19 19 19 19 19]\n"
          ]
        }
      ]
    },
    {
      "cell_type": "code",
      "metadata": {
        "id": "wp149-CemML2",
        "colab": {
          "base_uri": "https://localhost:8080/"
        },
        "outputId": "f12d15fc-5bd4-4342-b73d-8ce51429ecfa"
      },
      "source": [
        "# Trường hợp kích thước quần thể là 16\n",
        "np.random.seed(1)\n",
        "num_parameters = 20\n",
        "num_individuals = 16\n",
        "num_generations = 10\n",
        "popop(num_individuals, num_parameters, num_generations)"
      ],
      "execution_count": null,
      "outputs": [
        {
          "output_type": "stream",
          "name": "stdout",
          "text": [
            "#Gen 0:\n",
            "[11  8 13 11 12 10 12  9  8  7 10 13 12 10  8 11]\n",
            "#Gen 1:\n",
            "[10 12 14 13 12 11 13 15 10 15 12 13 12 12 14 13]\n",
            "#Gen 2:\n",
            "[15 14 15 14 13 13 15 13 15 14 15 15 14 13 15 14]\n",
            "#Gen 3:\n",
            "[15 15 18 15 15 16 15 14 18 15 15 16 15 15 15 15]\n",
            "#Gen 4:\n",
            "[16 18 18 19 16 15 15 19 16 18 15 16 19 16 15 19]\n",
            "#Gen 5:\n",
            "[19 17 19 19 18 18 19 19 19 18 19 19 19 19 19 19]\n",
            "#Gen 6:\n",
            "[19 20 19 19 19 19 19 19 19 19 19 19 19 19 19 20]\n",
            "#Gen 7:\n",
            "[20 20 20 19 20 19 20 19 19 19 20 20 19 20 20 20]\n",
            "#Gen 8:\n",
            "[20 20 20 20 20 20 20 20 20 20 20 20 20 20 20 20]\n",
            "#Gen 9:\n",
            "[20 20 20 20 20 20 20 20 20 20 20 20 20 20 20 20]\n",
            "#Gen 10:\n",
            "[20 20 20 20 20 20 20 20 20 20 20 20 20 20 20 20]\n",
            "#Result:\n",
            "[[1 1 1 1 1 1 1 1 1 1 1 1 1 1 1 1 1 1 1 1]\n",
            " [1 1 1 1 1 1 1 1 1 1 1 1 1 1 1 1 1 1 1 1]\n",
            " [1 1 1 1 1 1 1 1 1 1 1 1 1 1 1 1 1 1 1 1]\n",
            " [1 1 1 1 1 1 1 1 1 1 1 1 1 1 1 1 1 1 1 1]\n",
            " [1 1 1 1 1 1 1 1 1 1 1 1 1 1 1 1 1 1 1 1]\n",
            " [1 1 1 1 1 1 1 1 1 1 1 1 1 1 1 1 1 1 1 1]\n",
            " [1 1 1 1 1 1 1 1 1 1 1 1 1 1 1 1 1 1 1 1]\n",
            " [1 1 1 1 1 1 1 1 1 1 1 1 1 1 1 1 1 1 1 1]\n",
            " [1 1 1 1 1 1 1 1 1 1 1 1 1 1 1 1 1 1 1 1]\n",
            " [1 1 1 1 1 1 1 1 1 1 1 1 1 1 1 1 1 1 1 1]\n",
            " [1 1 1 1 1 1 1 1 1 1 1 1 1 1 1 1 1 1 1 1]\n",
            " [1 1 1 1 1 1 1 1 1 1 1 1 1 1 1 1 1 1 1 1]\n",
            " [1 1 1 1 1 1 1 1 1 1 1 1 1 1 1 1 1 1 1 1]\n",
            " [1 1 1 1 1 1 1 1 1 1 1 1 1 1 1 1 1 1 1 1]\n",
            " [1 1 1 1 1 1 1 1 1 1 1 1 1 1 1 1 1 1 1 1]\n",
            " [1 1 1 1 1 1 1 1 1 1 1 1 1 1 1 1 1 1 1 1]]\n",
            "[20 20 20 20 20 20 20 20 20 20 20 20 20 20 20 20]\n"
          ]
        }
      ]
    },
    {
      "cell_type": "code",
      "metadata": {
        "id": "n3s72YOYmML3",
        "colab": {
          "base_uri": "https://localhost:8080/"
        },
        "outputId": "fc162bc0-8623-4a95-851b-78c84ed3ce43"
      },
      "source": [
        "# Hãy thay đổi random seed, số lượng biến, kích thước quần thể, số thế hệ \n",
        "# và quan sát thuật toán có giải được bài toán hay không.\n",
        "np.random.seed(13)\n",
        "num_parameters = 20\n",
        "num_individuals = 10\n",
        "num_generations = 10\n",
        "popop(num_individuals, num_parameters, num_generations)"
      ],
      "execution_count": null,
      "outputs": [
        {
          "output_type": "stream",
          "name": "stdout",
          "text": [
            "#Gen 0:\n",
            "[ 4 10 13  9 13 14 11  7 12 11]\n",
            "#Gen 1:\n",
            "[10 13 14 13 10 13 13 12 14 13]\n",
            "#Gen 2:\n",
            "[14 13 13 14 14 14 14 13 14 13]\n",
            "#Gen 3:\n",
            "[14 14 14 14 15 14 15 14 15 14]\n",
            "#Gen 4:\n",
            "[16 14 15 16 15 15 16 15 16 15]\n",
            "#Gen 5:\n",
            "[17 15 17 16 16 16 17 16 16 17]\n",
            "#Gen 6:\n",
            "[17 18 17 16 17 17 17 18 17 17]\n",
            "#Gen 7:\n",
            "[17 18 18 18 18 18 18 18 17 18]\n",
            "#Gen 8:\n",
            "[18 18 18 18 18 18 18 18 18 18]\n",
            "#Gen 9:\n",
            "[18 18 18 18 18 18 18 18 18 18]\n",
            "#Gen 10:\n",
            "[18 18 18 18 18 18 18 18 18 18]\n",
            "#Result:\n",
            "[[1 1 1 1 1 1 1 1 1 0 0 1 1 1 1 1 1 1 1 1]\n",
            " [1 1 1 1 1 1 1 1 1 0 0 1 1 1 1 1 1 1 1 1]\n",
            " [1 1 1 1 1 1 1 1 1 0 0 1 1 1 1 1 1 1 1 1]\n",
            " [1 1 1 1 1 1 1 1 1 0 0 1 1 1 1 1 1 1 1 1]\n",
            " [1 1 1 1 1 1 1 1 1 0 0 1 1 1 1 1 1 1 1 1]\n",
            " [1 1 1 1 1 1 1 1 1 0 0 1 1 1 1 1 1 1 1 1]\n",
            " [1 1 1 1 1 1 1 1 1 0 0 1 1 1 1 1 1 1 1 1]\n",
            " [1 1 1 1 1 1 1 1 1 0 0 1 1 1 1 1 1 1 1 1]\n",
            " [1 1 1 1 1 1 1 1 1 0 0 1 1 1 1 1 1 1 1 1]\n",
            " [1 1 1 1 1 1 1 1 1 0 0 1 1 1 1 1 1 1 1 1]]\n",
            "[18 18 18 18 18 18 18 18 18 18]\n"
          ]
        }
      ]
    },
    {
      "cell_type": "code",
      "metadata": {
        "colab": {
          "base_uri": "https://localhost:8080/"
        },
        "id": "WF3kdWL9_jkh",
        "outputId": "66c97ca7-af02-4170-b9b5-5a421c8ac4a4"
      },
      "source": [
        "num_parameters = 4\n",
        "num_individuals = 8\n",
        "num_generations = 10\n",
        "evaluate_algorithm(num_individuals, num_parameters, num_generations)"
      ],
      "execution_count": null,
      "outputs": [
        {
          "output_type": "execute_result",
          "data": {
            "text/plain": [
              "28"
            ]
          },
          "metadata": {},
          "execution_count": 41
        }
      ]
    },
    {
      "cell_type": "code",
      "metadata": {
        "id": "mpoT1pHx_pDD"
      },
      "source": [
        ""
      ],
      "execution_count": null,
      "outputs": []
    }
  ]
}