{
  "nbformat": 4,
  "nbformat_minor": 0,
  "metadata": {
    "anaconda-cloud": {},
    "kernelspec": {
      "display_name": "Python [Root]",
      "language": "python",
      "name": "Python [Root]"
    },
    "language_info": {
      "codemirror_mode": {
        "name": "ipython",
        "version": 2
      },
      "file_extension": ".py",
      "mimetype": "text/x-python",
      "name": "python",
      "nbconvert_exporter": "python",
      "pygments_lexer": "ipython2",
      "version": "2.7.12"
    },
    "colab": {
      "name": "Bisection.ipynb",
      "provenance": [],
      "collapsed_sections": [
        "IRE3uzJ3ET16"
      ]
    }
  },
  "cells": [
    {
      "cell_type": "code",
      "metadata": {
        "colab": {
          "base_uri": "https://localhost:8080/"
        },
        "id": "W4C2jjSxEZmU",
        "outputId": "4155005f-49e1-4ac7-c6d2-37ae0629225f"
      },
      "source": [
        "from google.colab import drive\n",
        "drive.mount('/content/drive')"
      ],
      "execution_count": 1,
      "outputs": [
        {
          "output_type": "stream",
          "name": "stdout",
          "text": [
            "Mounted at /content/drive\n"
          ]
        }
      ]
    },
    {
      "cell_type": "markdown",
      "metadata": {
        "id": "7PT9vrh-QyF_"
      },
      "source": [
        "# Khai báo thư viện"
      ]
    },
    {
      "cell_type": "code",
      "metadata": {
        "collapsed": true,
        "id": "YZJ3R7zjmMLp"
      },
      "source": [
        "import numpy as np\n",
        "import pandas as pd\n",
        "import matplotlib.pyplot as plt\n",
        "import csv"
      ],
      "execution_count": 36,
      "outputs": []
    },
    {
      "cell_type": "markdown",
      "metadata": {
        "id": "IRE3uzJ3ET16"
      },
      "source": [
        "# Thuật toán sGA"
      ]
    },
    {
      "cell_type": "markdown",
      "metadata": {
        "id": "S0prEsihEWs2"
      },
      "source": [
        "## Khởi tạo quần thể"
      ]
    },
    {
      "cell_type": "code",
      "metadata": {
        "id": "hUhEE84VmMLr"
      },
      "source": [
        "def initialize_population( num_individuals, num_variables ):\n",
        "    \"\"\"\n",
        "    Khởi tạo quần thể gồm num_individuals cá thể. Mỗi cá thể có num_parameters biến.\n",
        "    \n",
        "    Arguments:\n",
        "    num_individuals -- Số lượng cá thể\n",
        "    num_variables -- Số lượng biến\n",
        "    \n",
        "    Returns:\n",
        "    pop -- Ma trận (num_individuals, num_variables\u001d) chứa quần thể mới được khởi tạo ngẫu nhiên.\n",
        "    \"\"\"\n",
        "    \n",
        "    ### BẮT ĐẦU CODE TỪ ĐÂY ### \n",
        "    pop = np.random.randint(2, size=(num_individuals, num_variables))\n",
        "    \n",
        "    ### DỪNG CODE TẠI ĐÂY ###\n",
        "    \n",
        "    return pop"
      ],
      "execution_count": null,
      "outputs": []
    },
    {
      "cell_type": "markdown",
      "metadata": {
        "id": "YynmL49WEZqG"
      },
      "source": [
        "## Hàm đánh giá độ thích nghi của quần thể"
      ]
    },
    {
      "cell_type": "markdown",
      "metadata": {
        "id": "gQBhYvetYa8D"
      },
      "source": [
        "### Hàm onemax"
      ]
    },
    {
      "cell_type": "code",
      "metadata": {
        "id": "poknDwSSmMLs"
      },
      "source": [
        "def onemax( ind ):\n",
        "    \"\"\"\n",
        "    Hàm đánh giá OneMax: Đếm số bit 1 trong chuỗi nhị phân (cá thể ind).\n",
        "    \n",
        "    Arguments:\n",
        "    ind -- Cá thể cần được đánh giá.\n",
        "\n",
        "    Returns:\n",
        "    value -- Giá trị của cá thể ind.\n",
        "    \"\"\"\n",
        "    \n",
        "    ### BẮT ĐẦU CODE TỪ ĐÂY ###     \n",
        "    value = np.sum(ind)\n",
        "    \n",
        "    ### DỪNG CODE TẠI ĐÂY ###\n",
        "    \n",
        "    return value"
      ],
      "execution_count": null,
      "outputs": []
    },
    {
      "cell_type": "markdown",
      "metadata": {
        "id": "WqAN1W6mYdRt"
      },
      "source": [
        "### Hàm concatenated_trap"
      ]
    },
    {
      "cell_type": "code",
      "metadata": {
        "id": "gzeKfF_21dCQ"
      },
      "source": [
        "def concatenated_trap_k(ind, k):\n",
        "  fitness = 0\n",
        "  for i in range(0, len(ind), k):\n",
        "    u = 0\n",
        "    for j in range(0, k):\n",
        "      u += ind[i + j]\n",
        "    if u == k:\n",
        "      fitness += k\n",
        "    else:\n",
        "      fitness += (k - 1 - u)\n",
        "\n",
        "  return fitness "
      ],
      "execution_count": null,
      "outputs": []
    },
    {
      "cell_type": "markdown",
      "metadata": {
        "id": "ljZXUWjUYpus"
      },
      "source": [
        "### Hàm đánh giá độ thích nghi"
      ]
    },
    {
      "cell_type": "code",
      "metadata": {
        "id": "Q-xYm-5zmMLu"
      },
      "source": [
        "def evaluate_population(pop, number_of_evaluations, evaluation_method):\n",
        "    \"\"\"\n",
        "    Hàm đánh giá tất cả cá thể trong quần thể.\n",
        "    \n",
        "    Arguments:\n",
        "    pop -- Quàn thể cần được đánh giá.\n",
        "\n",
        "    Returns:\n",
        "    values -- Giá trị của tất cả các cá thể trong quần thể.\n",
        "    \"\"\" \n",
        "\n",
        "    ### BẮT ĐẦU CODE TỪ ĐÂY ###\n",
        "    if evaluation_method == 1:\n",
        "      values = np.array([onemax(ind) for ind in pop])\n",
        "    else:\n",
        "      values = np.array([concatenated_trap_k(ind, 5) for ind in pop])\n",
        "    number_of_evaluations += len(pop)\n",
        "    \n",
        "    ### DỪNG CODE TẠI ĐÂY ###\n",
        "    \n",
        "    return values, number_of_evaluations"
      ],
      "execution_count": null,
      "outputs": []
    },
    {
      "cell_type": "markdown",
      "metadata": {
        "id": "aNz0UhXSEgG9"
      },
      "source": [
        "## Hàm so sánh độ thích nghi giữa 2 cá thể"
      ]
    },
    {
      "cell_type": "code",
      "metadata": {
        "id": "xdWzIquvmMLv"
      },
      "source": [
        "def better_fitness( fitness_1, fitness_2, maximization=True ):\n",
        "    \"\"\"\n",
        "    Hàm so sánh độ thích nghi của 2 cá thể.\n",
        "    \n",
        "    Arguments:\n",
        "    fitness_1 -- Độ thích nghi của cá thể 1.\n",
        "    fitness_2 -- Độ thích nghi của cá thể 2.\n",
        "    maximization -- Biến boolean cho biết bài toán đang giải thuộc dạng tối đa hoá (mặc định) hay không\n",
        "    \n",
        "    Returns:\n",
        "    True nếu fitness_1 tốt hơn fitness_2. Ngược lại, trả về False.\n",
        "    \"\"\"\n",
        "    \n",
        "    if maximization:\n",
        "        if fitness_1 > fitness_2:\n",
        "            return True\n",
        "    else:\n",
        "        if fitness_1 < fitness_2:\n",
        "            return True\n",
        "        \n",
        "    return False"
      ],
      "execution_count": null,
      "outputs": []
    },
    {
      "cell_type": "markdown",
      "metadata": {
        "id": "Fzsb1VsrEoB-"
      },
      "source": [
        "## Tourament selection"
      ]
    },
    {
      "cell_type": "code",
      "metadata": {
        "id": "aPVYVkGwmMLv"
      },
      "source": [
        "def tournament_selection( pop, pop_fitness, selection_size, tournament_size):\n",
        "    \"\"\"\n",
        "    Hàm chọn lọc cạnh tranh.\n",
        "    \n",
        "    Arguments:\n",
        "    pop -- Quần thể để thực hiện phép chọn lọc.\n",
        "    pop_fitness -- Mảng 1 chiều chứa giá trị (độ thích nghi) của từng cá thể trong quần thể.\n",
        "    selection_size -- Số lượng cá thể \u001dsẽ được chọn.\n",
        "    tournament_size -- Kích thước của tournament: Số lượng các cá thể được so sánh với nhau mỗi lần.\n",
        "    \n",
        "    Returns:\n",
        "    selected_indices -- Chỉ số của những cá thể trong quần thể pop được chọn. Chỉ số có thể được lặp lại.\n",
        "    \"\"\"\n",
        "    \n",
        "    ### BẮT ĐẦU CODE TỪ ĐÂY ### \n",
        "    num_individuals = len(pop)\n",
        "    indices = np.arange(num_individuals)\n",
        "    selected_indices = []\n",
        "    \n",
        "    while len(selected_indices) < selection_size:\n",
        "        # Đảo ngẫu nhiên thứ tự các cá thể trong quần thể.\n",
        "        np.random.shuffle(indices)\n",
        "        \n",
        "        for i in range(0, num_individuals, tournament_size):\n",
        "          best_idx = i\n",
        "          for idx in range(1, tournament_size):\n",
        "            if better_fitness(pop_fitness[indices[i+idx]], pop_fitness[indices[best_idx]]):\n",
        "              best_idx = i + idx\n",
        "          selected_indices.append(indices[best_idx])\n",
        "    \n",
        "    selected_indices = np.array(selected_indices)        \n",
        "\n",
        "    ### DỪNG CODE TẠI ĐÂY ###\n",
        "    \n",
        "    return selected_indices"
      ],
      "execution_count": null,
      "outputs": []
    },
    {
      "cell_type": "markdown",
      "metadata": {
        "id": "DtJxkz__EqlR"
      },
      "source": [
        "## Hàm lai ghép quần thể"
      ]
    },
    {
      "cell_type": "markdown",
      "metadata": {
        "id": "ekGAA8SjVutb"
      },
      "source": [
        "### Uniform crossover"
      ]
    },
    {
      "cell_type": "code",
      "metadata": {
        "id": "Ge94BH6_mMLx"
      },
      "source": [
        "def uniform_crossover( pop ):\n",
        "    \"\"\"\n",
        "    Hàm biến đổi tạo ra các cá thể con.\n",
        "    \n",
        "    Arguments:\n",
        "    pop -- Quàn thể hiện tại.\n",
        "\n",
        "    Returns:\n",
        "    offspring -- Quần thể chứa các cá thể con được sinh ra.\n",
        "    \"\"\"  \n",
        "    \n",
        "    ### BẮT ĐẦU CODE TỪ ĐÂY ### \n",
        "    num_individuals = len(pop)\n",
        "    num_parameters = len(pop[0])\n",
        "    indices = np.arange(num_individuals)\n",
        "    # Đảo ngẫu nhiên thứ tự các cá thể trong quần thể\n",
        "    np.random.shuffle(indices)\n",
        "    offspring = []\n",
        "    \n",
        "    for i in range(0, num_individuals, 2):\n",
        "        idx1 = indices[i]\n",
        "        idx2 = indices[i+1]\n",
        "        offspring1 = list(pop[idx1])\n",
        "        offspring2 = list(pop[idx2])\n",
        "        \n",
        "        # Cài đặt phép lai đồng nhất uniform crossover. \n",
        "        # Không cần cài đặt đột biến mutation.\n",
        "        for idx in range(0, num_parameters):\n",
        "          r = np.random.rand()\n",
        "          if r < 0.5:\n",
        "            temp = offspring2[idx]\n",
        "            offspring2[idx] = offspring1[idx]\n",
        "            offspring1[idx] = temp\n",
        "\n",
        "        offspring.append(offspring1)\n",
        "        offspring.append(offspring2)\n",
        "\n",
        "\n",
        "    ### DỪNG CODE TẠI ĐÂY ###\n",
        "    \n",
        "    offspring = np.array(offspring)\n",
        "    return offspring"
      ],
      "execution_count": null,
      "outputs": []
    },
    {
      "cell_type": "markdown",
      "metadata": {
        "id": "3Aco6qo3V_vE"
      },
      "source": [
        "### One-point crossover"
      ]
    },
    {
      "cell_type": "code",
      "metadata": {
        "id": "htIhvPZMWEB2"
      },
      "source": [
        "def onePoint_crossover( pop ):\n",
        "    \"\"\"\n",
        "    Hàm biến đổi tạo ra các cá thể con.\n",
        "    \n",
        "    Arguments:\n",
        "    pop -- Quàn thể hiện tại.\n",
        "\n",
        "    Returns:\n",
        "    offspring -- Quần thể chứa các cá thể con được sinh ra.\n",
        "    \"\"\"  \n",
        "    \n",
        "    ### BẮT ĐẦU CODE TỪ ĐÂY ### \n",
        "    num_individuals = len(pop)\n",
        "    num_parameters = len(pop[0])\n",
        "    indices = np.arange(num_individuals)\n",
        "    # Đảo ngẫu nhiên thứ tự các cá thể trong quần thể\n",
        "    np.random.shuffle(indices)\n",
        "    offspring = []\n",
        "    \n",
        "    for i in range(0, num_individuals, 2):\n",
        "        idx1 = indices[i]\n",
        "        idx2 = indices[i+1]\n",
        "        offspring1 = list(pop[idx1])\n",
        "        offspring2 = list(pop[idx2])\n",
        "        \n",
        "        # Cài đặt phép lai một điểm one-point crossover. \n",
        "        # Không cần cài đặt đột biến mutation.\n",
        "        idx = np.random.randint(1,num_parameters)\n",
        "        temp1 = offspring1[idx:] \n",
        "        temp2 = offspring2[idx:] \n",
        "        offspring1 = np.concatenate((offspring1[:idx], temp2), axis=None)\n",
        "        offspring2 = np.concatenate((offspring2[:idx], temp1), axis=None)\n",
        "\n",
        "        offspring.append(offspring1)\n",
        "        offspring.append(offspring2)\n",
        "\n",
        "\n",
        "    ### DỪNG CODE TẠI ĐÂY ###\n",
        "    \n",
        "    offspring = np.array(offspring)\n",
        "    return offspring"
      ],
      "execution_count": null,
      "outputs": []
    },
    {
      "cell_type": "markdown",
      "metadata": {
        "id": "SEsEBlJREzyK"
      },
      "source": [
        "## Hàm kiểm tra hội tụ của quần thể"
      ]
    },
    {
      "cell_type": "code",
      "metadata": {
        "id": "8dg1_UHkAtW5"
      },
      "source": [
        "def check_convergence(pop_fitness):\n",
        "  if len(np.unique(pop_fitness)) == 1:\n",
        "    return True\n",
        "    \n",
        "  return False"
      ],
      "execution_count": null,
      "outputs": []
    },
    {
      "cell_type": "markdown",
      "metadata": {
        "id": "DnGrNdtiE8oa"
      },
      "source": [
        "## Hàm kiểm tra tối ưu của quần thể"
      ]
    },
    {
      "cell_type": "code",
      "metadata": {
        "id": "OovYixXhrVnx"
      },
      "source": [
        "def check_optimal(num_parameters, pop_fitness):\n",
        "  if num_parameters in pop_fitness:\n",
        "    return True\n",
        "\n",
        "  return False"
      ],
      "execution_count": null,
      "outputs": []
    },
    {
      "cell_type": "markdown",
      "metadata": {
        "id": "4qQw9AaREwdk"
      },
      "source": [
        "## Thuật toán POPOP"
      ]
    },
    {
      "cell_type": "code",
      "metadata": {
        "id": "f48pgHskmMLy"
      },
      "source": [
        "def popop(num_individuals, num_parameters, number_of_evaluations, evaluation_method, crossover_method):\n",
        "    \"\"\"\n",
        "    Hàm cài đặt thuật giải di truyền theo các bước P->O->(P+O)->P\n",
        "    \n",
        "    Arguments:\n",
        "    num_individuals -- Số lượng cá thể trong quần thể.\n",
        "    num_parameters -- Số lượng biến.\n",
        "    num_generations -- Số thế hệ thuật toán sẽ chạy.\n",
        "\n",
        "    Returns:\n",
        "    In ra quần thể ở thế hệ cuối cùng và giá trị của từng cá thể.\n",
        "    \"\"\" \n",
        "\n",
        "    ### BẮT ĐẦU CODE TỪ ĐÂY ### \n",
        "    # Khởi tạo quần thể\n",
        "    pop = initialize_population(num_individuals, num_parameters)\n",
        "    pop_fitness, number_of_evaluations = evaluate_population(pop, number_of_evaluations, evaluation_method)\n",
        "    # print(\"#Gen 0:\")\n",
        "    # print(pop)\n",
        "    # print(pop_fitness)\n",
        "    \n",
        "    # Sử dụng tournament_size 4 và selection_size là bằng kích thước quần thể\n",
        "    selection_size = len(pop)\n",
        "    tournament_size = 4\n",
        "\n",
        "    while not check_convergence(pop_fitness):\n",
        "        # Tạo ra các cá thể con và đánh giá chúng\n",
        "        if crossover_method == 1:\n",
        "          offspring = onePoint_crossover(pop)\n",
        "        else:\n",
        "          offspring = uniform_crossover(pop)\n",
        "        offspring_fitness, number_of_evaluations = evaluate_population(offspring, number_of_evaluations, evaluation_method)\n",
        "        \n",
        "        # Tạo ra quần thể pool gồm quần thể hiện tại pop và offspring\n",
        "        pool = np.vstack((pop,offspring))\n",
        "        pool_fitness = np.hstack((pop_fitness, offspring_fitness))\n",
        "\n",
        "        # Thực hiện tournament selection trên quần thể pool \n",
        "        pool_indices = tournament_selection(pool, pool_fitness, selection_size, tournament_size)\n",
        "\n",
        "        # Thay thế quần thể hiện tại bằng những cá thể được chọn ra từ pool.\n",
        "        pop = pool[pool_indices, :]\n",
        "        pop_fitness = pool_fitness[pool_indices]\n",
        "        # print(\"#Gen {}:\".format(i+1))\n",
        "        # print(pop_fitness)\n",
        "\n",
        "    ## DỪNG CODE TẠI ĐÂY ###\n",
        "    # print(\"#Result:\")\n",
        "    # print(pop)\n",
        "    # print(pop_fitness)\n",
        "\n",
        "    return pop_fitness, number_of_evaluations"
      ],
      "execution_count": null,
      "outputs": []
    },
    {
      "cell_type": "markdown",
      "metadata": {
        "id": "KJPFpqysF10H"
      },
      "source": [
        "## Hàm đánh giá thuật toán sGA với 10 random seed khác nhau"
      ]
    },
    {
      "cell_type": "code",
      "metadata": {
        "collapsed": true,
        "id": "Qtt85MlrmML4"
      },
      "source": [
        "def evaluate_sGA(num_individuals, num_parameters, seed, evaluation_method, crossover_method):\n",
        "  number_of_evaluations_per_seed = 0\n",
        "  number_of_evaluations_per_seed_lst = []\n",
        "\n",
        "  for i in range(seed, seed+10):\n",
        "    np.random.seed(i)\n",
        "    final_offspring, number_of_evaluations_per_seed = popop(num_individuals, num_parameters, number_of_evaluations_per_seed, evaluation_method, crossover_method)\n",
        "    number_of_evaluations_per_seed_lst.append(number_of_evaluations_per_seed)\n",
        "    if not check_optimal(num_parameters, final_offspring):\n",
        "      return [False, np.mean(number_of_evaluations_per_seed_lst)]\n",
        "\n",
        "  return [True, np.mean(number_of_evaluations_per_seed_lst)]"
      ],
      "execution_count": null,
      "outputs": []
    },
    {
      "cell_type": "markdown",
      "metadata": {
        "id": "0uMyX2ZhFJZs"
      },
      "source": [
        "## Hàm tìm kiếm cận trên của population size"
      ]
    },
    {
      "cell_type": "code",
      "metadata": {
        "id": "MnobdfYvtibB"
      },
      "source": [
        "def upper_bound(num_parameters, seed, cant_solve, evaluation_method, crossover_method):\n",
        "  upper_popSize = 4\n",
        "  while not evaluate_sGA(upper_popSize, num_parameters, seed, evaluation_method, crossover_method)[0]:\n",
        "    upper_popSize *= 2\n",
        "\n",
        "    if upper_popSize > 8192:\n",
        "      cant_solve = True\n",
        "      break\n",
        "\n",
        "  return upper_popSize, cant_solve"
      ],
      "execution_count": null,
      "outputs": []
    },
    {
      "cell_type": "markdown",
      "metadata": {
        "id": "lfQxpU58FPIt"
      },
      "source": [
        "## Hàm tìm kiếm MRPS của quần thể"
      ]
    },
    {
      "cell_type": "code",
      "metadata": {
        "id": "BbuHV_olFadw"
      },
      "source": [
        "def MRPS(num_parameters, upper_popSize, seed, evaluation_method, crossover_method):\n",
        "  number_of_evaluations_per_popSize_lst = []\n",
        "\n",
        "  lower_popSize = upper_popSize // 2\n",
        "  while (upper_popSize - lower_popSize) / upper_popSize > 0.1:\n",
        "    popSize = (upper_popSize + lower_popSize) // 2\n",
        "    [flag, number_of_evaluations_per_popSize] = evaluate_sGA(popSize, num_parameters, seed, evaluation_method, crossover_method)\n",
        "    number_of_evaluations_per_popSize_lst.append(number_of_evaluations_per_popSize)\n",
        "    if flag:\n",
        "      upper_popSize = popSize\n",
        "    else:\n",
        "      lower_popSize = popSize\n",
        "\n",
        "    if (upper_popSize - lower_popSize) <= 2:\n",
        "      break\n",
        "\n",
        "  return upper_popSize, round(number_of_evaluations_per_popSize_lst[-1], 2)"
      ],
      "execution_count": null,
      "outputs": []
    },
    {
      "cell_type": "markdown",
      "metadata": {
        "id": "E0JQIUESRHb5"
      },
      "source": [
        "## Hàm ghi chép quá trình tiến hóa của quần thể"
      ]
    },
    {
      "cell_type": "code",
      "metadata": {
        "id": "exlQlwt9auQ7"
      },
      "source": [
        "def record(lines):\n",
        "  record_file = open('evolutionary_history_record.txt', 'a')\n",
        "  for line in lines:\n",
        "    record_file.write(line)\n",
        "    record_file.write('\\n')\n",
        "    print(line)"
      ],
      "execution_count": null,
      "outputs": []
    },
    {
      "cell_type": "code",
      "metadata": {
        "id": "quwKqtmORHLN"
      },
      "source": [
        "def evolutionary_history_record(evaluation_method=None, crossover_method=None, problemSize=None, type_record=None, values_each_bisection=None, values_each_problemSize=None):\n",
        "  evaluation_dict = {1:'Onemax', 2:'Concatenated Trap-5'}\n",
        "  crossover_dict = {1: 'One-point Crossover', 2:'Uniform Crossover'}\n",
        "  lines = []\n",
        "  \n",
        "  if type_record == 1:\n",
        "    line = f'- Evaluation = {evaluation_dict[evaluation_method]}, Crossover = {crossover_dict[crossover_method]}'\n",
        "    lines.append(line)\n",
        "    record(lines)\n",
        "  elif type_record == 2:\n",
        "    if values_each_bisection[1] == True:\n",
        "      line1 = f'\\t\\t{values_each_bisection[0]+1}-th bisection'\n",
        "      line2 = '\\t\\t\\tThis bisection cant be solved!'\n",
        "      lines.append(line1)\n",
        "      lines.append(line2)\n",
        "      record(lines)\n",
        "    else:\n",
        "      line1 = f'\\t\\t{values_each_bisection[0]+1}-th bisection'\n",
        "      line2 = f'\\t\\t\\tMRPS: {values_each_bisection[2]}'\n",
        "      line3 = f'\\t\\t\\tAverage number of evaluations each bisection: {values_each_bisection[3]}'\n",
        "      lines.append(line1)\n",
        "      lines.append(line2)\n",
        "      lines.append(line3)\n",
        "      record(lines)\n",
        "  elif type_record == 3:\n",
        "    if values_each_problemSize is None:\n",
        "      line = f'\\tThis problem size cant be solved!\\n'\n",
        "      lines.append(line)\n",
        "      record(lines)\n",
        "    else:\n",
        "      line1 = f'\\t\\tMean MRPS: {values_each_problemSize[0]}'\n",
        "      line2 = f'\\t\\tStd MRPS: {values_each_problemSize[1]}'\n",
        "      line3 = f'\\t\\tMean number of evaluations: {values_each_problemSize[2]}'\n",
        "      line4 = f'\\t\\tStd number of evaluations: {values_each_problemSize[3]}\\n'\n",
        "      lines.append(line1)\n",
        "      lines.append(line2)\n",
        "      lines.append(line3)\n",
        "      lines.append(line4)\n",
        "      record(lines)\n",
        "  elif type_record == 4:\n",
        "    line = '\\n|-----------------------------------DONE-----------------------------------|'\n",
        "    lines.append(line)\n",
        "    record(lines)\n",
        "  elif type_record == 5:\n",
        "    line1 = '|------------------------EVOLUTIONARY HISTORY RECORD------------------------|'\n",
        "    line2 = '|-----------------------------------BEGIN-----------------------------------|\\n\\n'\n",
        "    lines.append(line1)\n",
        "    lines.append(line2)\n",
        "    record(lines)\n",
        "  elif type_record == 6:\n",
        "    line = '\\tSaved record!\\n'\n",
        "    lines.append(line)\n",
        "    record(lines)\n",
        "  elif type_record == 7:\n",
        "    line = '\\tSaving...'\n",
        "    lines.append(line)\n",
        "    record(lines)\n",
        "  if type_record == 8:\n",
        "    line = f'\\t- Problem size = {problemSize}'\n",
        "    lines.append(line)\n",
        "    record(lines)"
      ],
      "execution_count": null,
      "outputs": []
    },
    {
      "cell_type": "markdown",
      "metadata": {
        "id": "E5k24nxYFDt7"
      },
      "source": [
        "# Thuật toán Bisection"
      ]
    },
    {
      "cell_type": "code",
      "metadata": {
        "id": "htbte_Upw802"
      },
      "source": [
        "def bisection(evaluation_method, crossover_method):\n",
        "  MSSV = 19521943\n",
        "  seed_lst = []\n",
        "  for i in range(0, 100, 10):\n",
        "    seed_lst.append(MSSV+i)\n",
        "\n",
        "  average_popSize_lst = []\n",
        "  std_popSize_lst = []\n",
        "  average_number_of_evaluations_lst = []\n",
        "  std_number_of_evaluations_lst = []\n",
        "  # cant_solve_lst = []\n",
        "  # solved_problemSize_lst = []\n",
        "  num_parameters_lst = [10, 20, 40, 80, 160]\n",
        "\n",
        "  evolutionary_history_record(evaluation_method=evaluation_method, crossover_method=crossover_method, type_record=1)\n",
        "  for num_parameters in num_parameters_lst:\n",
        "    evolutionary_history_record(problemSize=num_parameters, type_record=8)\n",
        "\n",
        "    solved_bisection = 0\n",
        "    popSize_lst = []\n",
        "    number_of_evaluations_lst = []\n",
        "\n",
        "    # Bisection loop\n",
        "    for seed in seed_lst:\n",
        "      cant_solve = False\n",
        "      upper_popSize, cant_solve = upper_bound(num_parameters, seed, cant_solve, evaluation_method, crossover_method)\n",
        "      # cant_solve_lst.append(cant_solve)\n",
        "      if cant_solve:\n",
        "        evolutionary_history_record(type_record=2, values_each_bisection=[seed_lst.index(seed), cant_solve])\n",
        "        continue\n",
        "      solved_bisection += 1\n",
        "      popSize, number_of_evaluations = MRPS(num_parameters, upper_popSize, seed, evaluation_method, crossover_method)\n",
        "      evolutionary_history_record(type_record=2, values_each_bisection=[seed_lst.index(seed), cant_solve, popSize, number_of_evaluations])\n",
        "      popSize_lst.append(popSize)\n",
        "      number_of_evaluations_lst.append(int(number_of_evaluations))\n",
        "\n",
        "    if solved_bisection == 0:\n",
        "      evolutionary_history_record(type_record=3)\n",
        "\n",
        "      if num_parameters == num_parameters_lst[-1]:\n",
        "        break\n",
        "\n",
        "      unsolved_problemSize_lst = num_parameters_lst[num_parameters_lst.index(num_parameters)+1:]\n",
        "      if len(unsolved_problemSize_lst) > 0:\n",
        "        for problemSize in unsolved_problemSize_lst:\n",
        "          evolutionary_history_record(problemSize=problemSize, type_record=8)\n",
        "          evolutionary_history_record(type_record=3)\n",
        "      \n",
        "      break\n",
        "    else:\n",
        "      average_popSize_lst.append(round(np.mean(popSize_lst), 2))\n",
        "      average_number_of_evaluations_lst.append(round(np.mean(number_of_evaluations_lst), 2))\n",
        "      std_popSize_lst.append(round(np.std(popSize_lst), 2))\n",
        "      std_number_of_evaluations_lst.append(round(np.std(number_of_evaluations_lst), 2))\n",
        "      # solved_problemSize_lst.append(num_parameters)\n",
        "      evolutionary_history_record(type_record=3, values_each_problemSize=[round(np.mean(popSize_lst), 2), \n",
        "                                                                          round(np.std(popSize_lst), 2), \n",
        "                                                                          round(np.mean(number_of_evaluations_lst), 2), \n",
        "                                                                          round(np.std(number_of_evaluations_lst), 2)])\n",
        "\n",
        "  return average_popSize_lst, average_number_of_evaluations_lst, std_popSize_lst, std_number_of_evaluations_lst"
      ],
      "execution_count": null,
      "outputs": []
    },
    {
      "cell_type": "markdown",
      "metadata": {
        "id": "ktNOdp8CbTMp"
      },
      "source": [
        "# Chạy thuật toán Bisection"
      ]
    },
    {
      "cell_type": "code",
      "metadata": {
        "id": "zyG7SYMwRwA8",
        "colab": {
          "base_uri": "https://localhost:8080/"
        },
        "outputId": "327e2850-a986-4431-b4d3-bee9da05fd8a"
      },
      "source": [
        "methods = [(1,1), (1,2), (2,1), (2,2)]\n",
        "\n",
        "header = ['Algorithm', 'Problem_size', 'Mean_MRPS', 'Std_MRPS', 'Mean_Evaluations', 'Std_Evaluations']\n",
        "\n",
        "fi1 = open('result_onemax.csv', 'w')\n",
        "writer1 = csv.writer(fi1)\n",
        "writer1.writerow(header)\n",
        "\n",
        "fi2 = open('result_trap5.csv', 'w')\n",
        "writer2 = csv.writer(fi2)\n",
        "writer2.writerow(header)\n",
        "\n",
        "evolutionary_history_record(type_record=5)\n",
        "for evaluation_method, crossover_method in methods:\n",
        "  \n",
        "  sGA_oneX = np.array([['sGA-1X'] *5])\n",
        "  sGA_UX = np.array([['sGA-UX'] *5])\n",
        "  problemSize_lst = np.array([[10, 20, 40, 80, 160]])\n",
        "  \n",
        "  average_popSize_lst, average_number_of_evaluations_lst, std_popSize_lst, std_number_of_evaluations_lst = bisection(evaluation_method, crossover_method)\n",
        "  if len(average_popSize_lst) != 5:\n",
        "    nan = ['NaN'] * (5 - len(average_popSize_lst))\n",
        "    average_popSize_lst += nan\n",
        "    average_number_of_evaluations_lst += nan\n",
        "    std_popSize_lst += nan\n",
        "    std_number_of_evaluations_lst += nan\n",
        "  \n",
        "  average_popSize_lst = np.array([average_popSize_lst])\n",
        "  average_number_of_evaluations_lst = np.array([average_number_of_evaluations_lst])\n",
        "  std_popSize_lst = np.array([std_popSize_lst])\n",
        "  std_number_of_evaluations_lst = np.array([std_number_of_evaluations_lst])\n",
        "\n",
        "  if crossover_method == 1:\n",
        "    data = np.concatenate((sGA_oneX.T, problemSize_lst.T, average_popSize_lst.T, std_popSize_lst.T, average_number_of_evaluations_lst.T, std_number_of_evaluations_lst.T), axis=1)\n",
        "    evolutionary_history_record(type_record=7)\n",
        "  else:\n",
        "    data = np.concatenate((sGA_UX.T, problemSize_lst.T, average_popSize_lst.T, std_popSize_lst.T, average_number_of_evaluations_lst.T, std_number_of_evaluations_lst.T), axis=1)\n",
        "    evolutionary_history_record(type_record=7)\n",
        "\n",
        "  if evaluation_method == 1:\n",
        "    writer1.writerows(data)\n",
        "    evolutionary_history_record(type_record=6)\n",
        "  else:\n",
        "    writer2.writerows(data)\n",
        "    evolutionary_history_record(type_record=6)\n",
        "\n",
        "evolutionary_history_record(type_record=4)\n",
        "fi1.close()\n",
        "fi2.close()"
      ],
      "execution_count": null,
      "outputs": [
        {
          "output_type": "stream",
          "name": "stdout",
          "text": [
            "|------------------------EVOLUTIONARY HISTORY RECORD------------------------|\n",
            "|-----------------------------------BEGIN-----------------------------------|\n",
            "\n",
            "\n",
            "- Evaluation = Onemax, Crossover = One-point Crossover\n",
            "\t- Problem size = 10\n",
            "\t\t1-th bisection\n",
            "\t\t\tMRPS: 30\n",
            "\t\t\tAverage number of evaluations each bisection: 1167.0\n",
            "\t\t2-th bisection\n",
            "\t\t\tMRPS: 34\n",
            "\t\t\tAverage number of evaluations each bisection: 1564.0\n",
            "\t\t3-th bisection\n",
            "\t\t\tMRPS: 28\n",
            "\t\t\tAverage number of evaluations each bisection: 676.0\n",
            "\t\t4-th bisection\n",
            "\t\t\tMRPS: 44\n",
            "\t\t\tAverage number of evaluations each bisection: 1839.2\n",
            "\t\t5-th bisection\n",
            "\t\t\tMRPS: 44\n",
            "\t\t\tAverage number of evaluations each bisection: 1751.2\n",
            "\t\t6-th bisection\n",
            "\t\t\tMRPS: 36\n",
            "\t\t\tAverage number of evaluations each bisection: 659.6\n",
            "\t\t7-th bisection\n",
            "\t\t\tMRPS: 28\n",
            "\t\t\tAverage number of evaluations each bisection: 587.6\n",
            "\t\t8-th bisection\n",
            "\t\t\tMRPS: 36\n",
            "\t\t\tAverage number of evaluations each bisection: 1005.43\n",
            "\t\t9-th bisection\n",
            "\t\t\tMRPS: 32\n",
            "\t\t\tAverage number of evaluations each bisection: 810.0\n",
            "\t\t10-th bisection\n",
            "\t\t\tMRPS: 24\n",
            "\t\t\tAverage number of evaluations each bisection: 344.67\n",
            "\t\tMean MRPS: 33.6\n",
            "\t\tStd MRPS: 6.31\n",
            "\t\tMean number of evaluations: 1040.2\n",
            "\t\tStd number of evaluations: 495.58\n",
            "\n",
            "\t- Problem size = 20\n",
            "\t\t1-th bisection\n",
            "\t\t\tMRPS: 56\n",
            "\t\t\tAverage number of evaluations each bisection: 2639.0\n",
            "\t\t2-th bisection\n",
            "\t\t\tMRPS: 104\n",
            "\t\t\tAverage number of evaluations each bisection: 6229.6\n",
            "\t\t3-th bisection\n",
            "\t\t\tMRPS: 80\n",
            "\t\t\tAverage number of evaluations each bisection: 3301.71\n",
            "\t\t4-th bisection\n",
            "\t\t\tMRPS: 96\n",
            "\t\t\tAverage number of evaluations each bisection: 3027.2\n",
            "\t\t5-th bisection\n",
            "\t\t\tMRPS: 80\n",
            "\t\t\tAverage number of evaluations each bisection: 3250.29\n",
            "\t\t6-th bisection\n",
            "\t\t\tMRPS: 60\n",
            "\t\t\tAverage number of evaluations each bisection: 3570.0\n",
            "\t\t7-th bisection\n",
            "\t\t\tMRPS: 80\n",
            "\t\t\tAverage number of evaluations each bisection: 2577.6\n",
            "\t\t8-th bisection\n",
            "\t\t\tMRPS: 72\n",
            "\t\t\tAverage number of evaluations each bisection: 2606.67\n",
            "\t\t9-th bisection\n",
            "\t\t\tMRPS: 64\n",
            "\t\t\tAverage number of evaluations each bisection: 1515.0\n",
            "\t\t10-th bisection\n",
            "\t\t\tMRPS: 72\n",
            "\t\t\tAverage number of evaluations each bisection: 3001.71\n",
            "\t\tMean MRPS: 76.4\n",
            "\t\tStd MRPS: 14.36\n",
            "\t\tMean number of evaluations: 3171.5\n",
            "\t\tStd number of evaluations: 1152.42\n",
            "\n",
            "\t- Problem size = 40\n",
            "\t\t1-th bisection\n",
            "\t\t\tMRPS: 272\n",
            "\t\t\tAverage number of evaluations each bisection: 25024.0\n",
            "\t\t2-th bisection\n",
            "\t\t\tMRPS: 240\n",
            "\t\t\tAverage number of evaluations each bisection: 22440.0\n",
            "\t\t3-th bisection\n",
            "\t\t\tMRPS: 224\n",
            "\t\t\tAverage number of evaluations each bisection: 20488.0\n",
            "\t\t4-th bisection\n",
            "\t\t\tMRPS: 272\n",
            "\t\t\tAverage number of evaluations each bisection: 25051.2\n",
            "\t\t5-th bisection\n",
            "\t\t\tMRPS: 208\n",
            "\t\t\tAverage number of evaluations each bisection: 20779.2\n",
            "\t\t6-th bisection\n",
            "\t\t\tMRPS: 224\n",
            "\t\t\tAverage number of evaluations each bisection: 12306.67\n",
            "\t\t7-th bisection\n",
            "\t\t\tMRPS: 224\n",
            "\t\t\tAverage number of evaluations each bisection: 16458.0\n",
            "\t\t8-th bisection\n",
            "\t\t\tMRPS: 240\n",
            "\t\t\tAverage number of evaluations each bisection: 22728.0\n",
            "\t\t9-th bisection\n",
            "\t\t\tMRPS: 240\n",
            "\t\t\tAverage number of evaluations each bisection: 22440.0\n",
            "\t\t10-th bisection\n",
            "\t\t\tMRPS: 272\n",
            "\t\t\tAverage number of evaluations each bisection: 25377.6\n",
            "\t\tMean MRPS: 241.6\n",
            "\t\tStd MRPS: 22.0\n",
            "\t\tMean number of evaluations: 21309.1\n",
            "\t\tStd number of evaluations: 3930.21\n",
            "\n",
            "\t- Problem size = 80\n",
            "\t\t1-th bisection\n",
            "\t\t\tMRPS: 832\n",
            "\t\t\tAverage number of evaluations each bisection: 118726.4\n",
            "\t\t2-th bisection\n",
            "\t\t\tMRPS: 1088\n",
            "\t\t\tAverage number of evaluations each bisection: 150035.2\n",
            "\t\t3-th bisection\n",
            "\t\t\tMRPS: 640\n",
            "\t\t\tAverage number of evaluations each bisection: 23328.0\n",
            "\t\t4-th bisection\n",
            "\t\t\tMRPS: 448\n",
            "\t\t\tAverage number of evaluations each bisection: 17056.0\n",
            "\t\t5-th bisection\n",
            "\t\t\tMRPS: 640\n",
            "\t\t\tAverage number of evaluations each bisection: 79872.0\n",
            "\t\t6-th bisection\n",
            "\t\t\tMRPS: 896\n",
            "\t\t\tAverage number of evaluations each bisection: 51584.0\n",
            "\t\t7-th bisection\n",
            "\t\t\tMRPS: 896\n",
            "\t\t\tAverage number of evaluations each bisection: 42709.33\n",
            "\t\t8-th bisection\n",
            "\t\t\tMRPS: 960\n",
            "\t\t\tAverage number of evaluations each bisection: 129696.0\n",
            "\t\t9-th bisection\n",
            "\t\t\tMRPS: 512\n",
            "\t\t\tAverage number of evaluations each bisection: 44320.0\n",
            "\t\t10-th bisection\n",
            "\t\t\tMRPS: 832\n",
            "\t\t\tAverage number of evaluations each bisection: 122553.6\n",
            "\t\tMean MRPS: 774.4\n",
            "\t\tStd MRPS: 195.07\n",
            "\t\tMean number of evaluations: 77987.9\n",
            "\t\tStd number of evaluations: 46140.44\n",
            "\n",
            "\t- Problem size = 160\n",
            "\t\t1-th bisection\n",
            "\t\t\tMRPS: 2816\n",
            "\t\t\tAverage number of evaluations each bisection: 598118.4\n",
            "\t\t2-th bisection\n",
            "\t\t\tMRPS: 2816\n",
            "\t\t\tAverage number of evaluations each bisection: 597555.2\n",
            "\t\t3-th bisection\n",
            "\t\t\tMRPS: 4352\n",
            "\t\t\tAverage number of evaluations each bisection: 910003.2\n",
            "\t\t4-th bisection\n",
            "\t\t\tMRPS: 3072\n",
            "\t\t\tAverage number of evaluations each bisection: 174592.0\n",
            "\t\t5-th bisection\n",
            "\t\t\tMRPS: 2304\n",
            "\t\t\tAverage number of evaluations each bisection: 130560.0\n",
            "\t\t6-th bisection\n",
            "\t\t\tMRPS: 4352\n",
            "\t\t\tAverage number of evaluations each bisection: 889113.6\n",
            "\t\t7-th bisection\n",
            "\t\t\tMRPS: 7680\n",
            "\t\t\tAverage number of evaluations each bisection: 1539072.0\n",
            "\t\t8-th bisection\n",
            "\t\t\tMRPS: 2048\n",
            "\t\t\tAverage number of evaluations each bisection: 312137.14\n",
            "\t\t9-th bisection\n",
            "\t\t\tMRPS: 3328\n",
            "\t\t\tAverage number of evaluations each bisection: 695552.0\n",
            "\t\t10-th bisection\n",
            "\t\t\tMRPS: 3584\n",
            "\t\t\tAverage number of evaluations each bisection: 309504.0\n",
            "\t\tMean MRPS: 3635.2\n",
            "\t\tStd MRPS: 1530.87\n",
            "\t\tMean number of evaluations: 615620.6\n",
            "\t\tStd number of evaluations: 404579.16\n",
            "\n",
            "\tSaving...\n",
            "\tSaved record!\n",
            "\n",
            "- Evaluation = Onemax, Crossover = Uniform Crossover\n",
            "\t- Problem size = 10\n",
            "\t\t1-th bisection\n",
            "\t\t\tMRPS: 20\n",
            "\t\t\tAverage number of evaluations each bisection: 632.0\n",
            "\t\t2-th bisection\n",
            "\t\t\tMRPS: 26\n",
            "\t\t\tAverage number of evaluations each bisection: 1040.0\n",
            "\t\t3-th bisection\n",
            "\t\t\tMRPS: 24\n",
            "\t\t\tAverage number of evaluations each bisection: 220.0\n",
            "\t\t4-th bisection\n",
            "\t\t\tMRPS: 20\n",
            "\t\t\tAverage number of evaluations each bisection: 645.75\n",
            "\t\t5-th bisection\n",
            "\t\t\tMRPS: 16\n",
            "\t\t\tAverage number of evaluations each bisection: 282.8\n",
            "\t\t6-th bisection\n",
            "\t\t\tMRPS: 22\n",
            "\t\t\tAverage number of evaluations each bisection: 847.0\n",
            "\t\t7-th bisection\n",
            "\t\t\tMRPS: 16\n",
            "\t\t\tAverage number of evaluations each bisection: 378.0\n",
            "\t\t8-th bisection\n",
            "\t\t\tMRPS: 16\n",
            "\t\t\tAverage number of evaluations each bisection: 182.0\n",
            "\t\t9-th bisection\n",
            "\t\t\tMRPS: 22\n",
            "\t\t\tAverage number of evaluations each bisection: 875.6\n",
            "\t\t10-th bisection\n",
            "\t\t\tMRPS: 20\n",
            "\t\t\tAverage number of evaluations each bisection: 162.0\n",
            "\t\tMean MRPS: 20.2\n",
            "\t\tStd MRPS: 3.28\n",
            "\t\tMean number of evaluations: 526.3\n",
            "\t\tStd number of evaluations: 306.65\n",
            "\n",
            "\t- Problem size = 20\n",
            "\t\t1-th bisection\n",
            "\t\t\tMRPS: 28\n",
            "\t\t\tAverage number of evaluations each bisection: 1337.56\n",
            "\t\t2-th bisection\n",
            "\t\t\tMRPS: 24\n",
            "\t\t\tAverage number of evaluations each bisection: 319.0\n",
            "\t\t3-th bisection\n",
            "\t\t\tMRPS: 24\n",
            "\t\t\tAverage number of evaluations each bisection: 396.0\n",
            "\t\t4-th bisection\n",
            "\t\t\tMRPS: 32\n",
            "\t\t\tAverage number of evaluations each bisection: 1632.0\n",
            "\t\t5-th bisection\n",
            "\t\t\tMRPS: 52\n",
            "\t\t\tAverage number of evaluations each bisection: 2870.4\n",
            "\t\t6-th bisection\n",
            "\t\t\tMRPS: 32\n",
            "\t\t\tAverage number of evaluations each bisection: 765.0\n",
            "\t\t7-th bisection\n",
            "\t\t\tMRPS: 30\n",
            "\t\t\tAverage number of evaluations each bisection: 1629.0\n",
            "\t\t8-th bisection\n",
            "\t\t\tMRPS: 36\n",
            "\t\t\tAverage number of evaluations each bisection: 1859.8\n",
            "\t\t9-th bisection\n",
            "\t\t\tMRPS: 34\n",
            "\t\t\tAverage number of evaluations each bisection: 1870.0\n",
            "\t\t10-th bisection\n",
            "\t\t\tMRPS: 40\n",
            "\t\t\tAverage number of evaluations each bisection: 804.0\n",
            "\t\tMean MRPS: 33.2\n",
            "\t\tStd MRPS: 7.86\n",
            "\t\tMean number of evaluations: 1348.1\n",
            "\t\tStd number of evaluations: 749.05\n",
            "\n",
            "\t- Problem size = 40\n",
            "\t\t1-th bisection\n",
            "\t\t\tMRPS: 52\n",
            "\t\t\tAverage number of evaluations each bisection: 4082.0\n",
            "\t\t2-th bisection\n",
            "\t\t\tMRPS: 56\n",
            "\t\t\tAverage number of evaluations each bisection: 4170.4\n",
            "\t\t3-th bisection\n",
            "\t\t\tMRPS: 56\n",
            "\t\t\tAverage number of evaluations each bisection: 2360.8\n",
            "\t\t4-th bisection\n",
            "\t\t\tMRPS: 52\n",
            "\t\t\tAverage number of evaluations each bisection: 4201.6\n",
            "\t\t5-th bisection\n",
            "\t\t\tMRPS: 56\n",
            "\t\t\tAverage number of evaluations each bisection: 1040.0\n",
            "\t\t6-th bisection\n",
            "\t\t\tMRPS: 72\n",
            "\t\t\tAverage number of evaluations each bisection: 1881.33\n",
            "\t\t7-th bisection\n",
            "\t\t\tMRPS: 56\n",
            "\t\t\tAverage number of evaluations each bisection: 4295.2\n",
            "\t\t8-th bisection\n",
            "\t\t\tMRPS: 52\n",
            "\t\t\tAverage number of evaluations each bisection: 4217.2\n",
            "\t\t9-th bisection\n",
            "\t\t\tMRPS: 68\n",
            "\t\t\tAverage number of evaluations each bisection: 5276.8\n",
            "\t\t10-th bisection\n",
            "\t\t\tMRPS: 60\n",
            "\t\t\tAverage number of evaluations each bisection: 4932.0\n",
            "\t\tMean MRPS: 58.0\n",
            "\t\tStd MRPS: 6.51\n",
            "\t\tMean number of evaluations: 3645.4\n",
            "\t\tStd number of evaluations: 1318.75\n",
            "\n",
            "\t- Problem size = 80\n",
            "\t\t1-th bisection\n",
            "\t\t\tMRPS: 88\n",
            "\t\t\tAverage number of evaluations each bisection: 9636.0\n",
            "\t\t2-th bisection\n",
            "\t\t\tMRPS: 96\n",
            "\t\t\tAverage number of evaluations each bisection: 9970.4\n",
            "\t\t3-th bisection\n",
            "\t\t\tMRPS: 88\n",
            "\t\t\tAverage number of evaluations each bisection: 10058.4\n",
            "\t\t4-th bisection\n",
            "\t\t\tMRPS: 96\n",
            "\t\t\tAverage number of evaluations each bisection: 7542.86\n",
            "\t\t5-th bisection\n",
            "\t\t\tMRPS: 80\n",
            "\t\t\tAverage number of evaluations each bisection: 4406.4\n",
            "\t\t6-th bisection\n",
            "\t\t\tMRPS: 96\n",
            "\t\t\tAverage number of evaluations each bisection: 8338.0\n",
            "\t\t7-th bisection\n",
            "\t\t\tMRPS: 104\n",
            "\t\t\tAverage number of evaluations each bisection: 11440.0\n",
            "\t\t8-th bisection\n",
            "\t\t\tMRPS: 104\n",
            "\t\t\tAverage number of evaluations each bisection: 11616.8\n",
            "\t\t9-th bisection\n",
            "\t\t\tMRPS: 96\n",
            "\t\t\tAverage number of evaluations each bisection: 5350.4\n",
            "\t\t10-th bisection\n",
            "\t\t\tMRPS: 88\n",
            "\t\t\tAverage number of evaluations each bisection: 10120.0\n",
            "\t\tMean MRPS: 93.6\n",
            "\t\tStd MRPS: 7.2\n",
            "\t\tMean number of evaluations: 8847.6\n",
            "\t\tStd number of evaluations: 2308.14\n",
            "\n",
            "\t- Problem size = 160\n",
            "\t\t1-th bisection\n",
            "\t\t\tMRPS: 144\n",
            "\t\t\tAverage number of evaluations each bisection: 6052.0\n",
            "\t\t2-th bisection\n",
            "\t\t\tMRPS: 176\n",
            "\t\t\tAverage number of evaluations each bisection: 28195.2\n",
            "\t\t3-th bisection\n",
            "\t\t\tMRPS: 160\n",
            "\t\t\tAverage number of evaluations each bisection: 6192.0\n",
            "\t\t4-th bisection\n",
            "\t\t\tMRPS: 176\n",
            "\t\t\tAverage number of evaluations each bisection: 28318.4\n",
            "\t\t5-th bisection\n",
            "\t\t\tMRPS: 208\n",
            "\t\t\tAverage number of evaluations each bisection: 32448.0\n",
            "\t\t6-th bisection\n",
            "\t\t\tMRPS: 192\n",
            "\t\t\tAverage number of evaluations each bisection: 27561.6\n",
            "\t\t7-th bisection\n",
            "\t\t\tMRPS: 160\n",
            "\t\t\tAverage number of evaluations each bisection: 23112.0\n",
            "\t\t8-th bisection\n",
            "\t\t\tMRPS: 240\n",
            "\t\t\tAverage number of evaluations each bisection: 37128.0\n",
            "\t\t9-th bisection\n",
            "\t\t\tMRPS: 144\n",
            "\t\t\tAverage number of evaluations each bisection: 13804.0\n",
            "\t\t10-th bisection\n",
            "\t\t\tMRPS: 176\n",
            "\t\t\tAverage number of evaluations each bisection: 27684.8\n",
            "\t\tMean MRPS: 177.6\n",
            "\t\tStd MRPS: 28.13\n",
            "\t\tMean number of evaluations: 23049.4\n",
            "\t\tStd number of evaluations: 10203.8\n",
            "\n",
            "\tSaving...\n",
            "\tSaved record!\n",
            "\n",
            "- Evaluation = Concatenated Trap-5, Crossover = One-point Crossover\n",
            "\t- Problem size = 10\n",
            "\t\t1-th bisection\n",
            "\t\t\tMRPS: 128\n",
            "\t\t\tAverage number of evaluations each bisection: 2520.0\n",
            "\t\t2-th bisection\n",
            "\t\t\tMRPS: 160\n",
            "\t\t\tAverage number of evaluations each bisection: 4296.0\n",
            "\t\t3-th bisection\n",
            "\t\t\tMRPS: 104\n",
            "\t\t\tAverage number of evaluations each bisection: 5002.4\n",
            "\t\t4-th bisection\n",
            "\t\t\tMRPS: 96\n",
            "\t\t\tAverage number of evaluations each bisection: 2323.2\n",
            "\t\t5-th bisection\n",
            "\t\t\tMRPS: 88\n",
            "\t\t\tAverage number of evaluations each bisection: 4206.4\n",
            "\t\t6-th bisection\n",
            "\t\t\tMRPS: 144\n",
            "\t\t\tAverage number of evaluations each bisection: 5651.56\n",
            "\t\t7-th bisection\n",
            "\t\t\tMRPS: 112\n",
            "\t\t\tAverage number of evaluations each bisection: 1941.33\n",
            "\t\t8-th bisection\n",
            "\t\t\tMRPS: 64\n",
            "\t\t\tAverage number of evaluations each bisection: 360.0\n",
            "\t\t9-th bisection\n",
            "\t\t\tMRPS: 88\n",
            "\t\t\tAverage number of evaluations each bisection: 4048.0\n",
            "\t\t10-th bisection\n",
            "\t\t\tMRPS: 104\n",
            "\t\t\tAverage number of evaluations each bisection: 4940.0\n",
            "\t\tMean MRPS: 108.8\n",
            "\t\tStd MRPS: 27.06\n",
            "\t\tMean number of evaluations: 3528.7\n",
            "\t\tStd number of evaluations: 1581.66\n",
            "\n",
            "\t- Problem size = 20\n",
            "\t\t1-th bisection\n",
            "\t\t\tMRPS: 384\n",
            "\t\t\tAverage number of evaluations each bisection: 6160.0\n",
            "\t\t2-th bisection\n",
            "\t\t\tMRPS: 288\n",
            "\t\t\tAverage number of evaluations each bisection: 13794.29\n",
            "\t\t3-th bisection\n",
            "\t\t\tMRPS: 288\n",
            "\t\t\tAverage number of evaluations each bisection: 18795.2\n",
            "\t\t4-th bisection\n",
            "\t\t\tMRPS: 240\n",
            "\t\t\tAverage number of evaluations each bisection: 16368.0\n",
            "\t\t5-th bisection\n",
            "\t\t\tMRPS: 352\n",
            "\t\t\tAverage number of evaluations each bisection: 25062.4\n",
            "\t\t6-th bisection\n",
            "\t\t\tMRPS: 192\n",
            "\t\t\tAverage number of evaluations each bisection: 5456.0\n",
            "\t\t7-th bisection\n",
            "\t\t\tMRPS: 288\n",
            "\t\t\tAverage number of evaluations each bisection: 16490.0\n",
            "\t\t8-th bisection\n",
            "\t\t\tMRPS: 416\n",
            "\t\t\tAverage number of evaluations each bisection: 28620.8\n",
            "\t\t9-th bisection\n",
            "\t\t\tMRPS: 256\n",
            "\t\t\tAverage number of evaluations each bisection: 2160.0\n",
            "\t\t10-th bisection\n",
            "\t\t\tMRPS: 416\n",
            "\t\t\tAverage number of evaluations each bisection: 26582.4\n",
            "\t\tMean MRPS: 312.0\n",
            "\t\tStd MRPS: 72.71\n",
            "\t\tMean number of evaluations: 15948.7\n",
            "\t\tStd number of evaluations: 8751.79\n",
            "\n",
            "\t- Problem size = 40\n",
            "\t\t1-th bisection\n",
            "\t\t\tMRPS: 1088\n",
            "\t\t\tAverage number of evaluations each bisection: 104230.4\n",
            "\t\t2-th bisection\n",
            "\t\t\tMRPS: 896\n",
            "\t\t\tAverage number of evaluations each bisection: 82784.0\n",
            "\t\t3-th bisection\n",
            "\t\t\tMRPS: 704\n",
            "\t\t\tAverage number of evaluations each bisection: 71596.8\n",
            "\t\t4-th bisection\n",
            "\t\t\tMRPS: 896\n",
            "\t\t\tAverage number of evaluations each bisection: 68744.0\n",
            "\t\t5-th bisection\n",
            "\t\t\tMRPS: 768\n",
            "\t\t\tAverage number of evaluations each bisection: 68600.89\n",
            "\t\t6-th bisection\n",
            "\t\t\tMRPS: 704\n",
            "\t\t\tAverage number of evaluations each bisection: 81312.0\n",
            "\t\t7-th bisection\n",
            "\t\t\tMRPS: 832\n",
            "\t\t\tAverage number of evaluations each bisection: 88108.8\n",
            "\t\t8-th bisection\n",
            "\t\t\tMRPS: 640\n",
            "\t\t\tAverage number of evaluations each bisection: 50616.0\n",
            "\t\t9-th bisection\n",
            "\t\t\tMRPS: 768\n",
            "\t\t\tAverage number of evaluations each bisection: 31856.0\n",
            "\t\t10-th bisection\n",
            "\t\t\tMRPS: 704\n",
            "\t\t\tAverage number of evaluations each bisection: 67372.8\n",
            "\t\tMean MRPS: 800.0\n",
            "\t\tStd MRPS: 125.58\n",
            "\t\tMean number of evaluations: 71521.8\n",
            "\t\tStd number of evaluations: 19004.0\n",
            "\n",
            "\t- Problem size = 80\n",
            "\t\t1-th bisection\n",
            "\t\t\tMRPS: 4352\n",
            "\t\t\tAverage number of evaluations each bisection: 623641.6\n",
            "\t\t2-th bisection\n",
            "\t\t\tMRPS: 2048\n",
            "\t\t\tAverage number of evaluations each bisection: 136800.0\n",
            "\t\t3-th bisection\n",
            "\t\t\tMRPS: 2304\n",
            "\t\t\tAverage number of evaluations each bisection: 194099.2\n",
            "\t\t4-th bisection\n",
            "\t\t\tMRPS: 2816\n",
            "\t\t\tAverage number of evaluations each bisection: 433382.4\n",
            "\t\t5-th bisection\n",
            "\t\t\tMRPS: 2560\n",
            "\t\t\tAverage number of evaluations each bisection: 101376.0\n",
            "\t\t6-th bisection\n",
            "\t\t\tMRPS: 3328\n",
            "\t\t\tAverage number of evaluations each bisection: 498534.4\n",
            "\t\t7-th bisection\n",
            "\t\t\tMRPS: 2048\n",
            "\t\t\tAverage number of evaluations each bisection: 59520.0\n",
            "\t\t8-th bisection\n",
            "\t\t\tMRPS: 2176\n",
            "\t\t\tAverage number of evaluations each bisection: 342284.8\n",
            "\t\t9-th bisection\n",
            "\t\t\tMRPS: 3328\n",
            "\t\t\tAverage number of evaluations each bisection: 503859.2\n",
            "\t\t10-th bisection\n",
            "\t\t\tMRPS: 3328\n",
            "\t\t\tAverage number of evaluations each bisection: 490880.0\n",
            "\t\tMean MRPS: 2828.8\n",
            "\t\tStd MRPS: 711.41\n",
            "\t\tMean number of evaluations: 338437.5\n",
            "\t\tStd number of evaluations: 190286.25\n",
            "\n",
            "\t- Problem size = 160\n",
            "\t\t1-th bisection\n",
            "\t\t\tThis bisection cant be solved!\n",
            "\t\t2-th bisection\n",
            "\t\t\tThis bisection cant be solved!\n",
            "\t\t3-th bisection\n",
            "\t\t\tThis bisection cant be solved!\n",
            "\t\t4-th bisection\n",
            "\t\t\tThis bisection cant be solved!\n",
            "\t\t5-th bisection\n",
            "\t\t\tThis bisection cant be solved!\n",
            "\t\t6-th bisection\n",
            "\t\t\tThis bisection cant be solved!\n",
            "\t\t7-th bisection\n",
            "\t\t\tThis bisection cant be solved!\n",
            "\t\t8-th bisection\n",
            "\t\t\tThis bisection cant be solved!\n",
            "\t\t9-th bisection\n",
            "\t\t\tThis bisection cant be solved!\n",
            "\t\t10-th bisection\n",
            "\t\t\tThis bisection cant be solved!\n",
            "\tThis problem size cant be solved!\n",
            "\n",
            "\tSaving...\n",
            "\tSaved record!\n",
            "\n",
            "- Evaluation = Concatenated Trap-5, Crossover = Uniform Crossover\n",
            "\t- Problem size = 10\n",
            "\t\t1-th bisection\n",
            "\t\t\tMRPS: 416\n",
            "\t\t\tAverage number of evaluations each bisection: 25958.4\n",
            "\t\t2-th bisection\n",
            "\t\t\tMRPS: 544\n",
            "\t\t\tAverage number of evaluations each bisection: 32368.0\n",
            "\t\t3-th bisection\n",
            "\t\t\tMRPS: 544\n",
            "\t\t\tAverage number of evaluations each bisection: 31497.6\n",
            "\t\t4-th bisection\n",
            "\t\t\tMRPS: 544\n",
            "\t\t\tAverage number of evaluations each bisection: 35686.4\n",
            "\t\t5-th bisection\n",
            "\t\t\tMRPS: 448\n",
            "\t\t\tAverage number of evaluations each bisection: 17709.71\n",
            "\t\t6-th bisection\n",
            "\t\t\tMRPS: 416\n",
            "\t\t\tAverage number of evaluations each bisection: 26291.2\n",
            "\t\t7-th bisection\n",
            "\t\t\tMRPS: 448\n",
            "\t\t\tAverage number of evaluations each bisection: 24377.6\n",
            "\t\t8-th bisection\n",
            "\t\t\tMRPS: 416\n",
            "\t\t\tAverage number of evaluations each bisection: 25417.6\n",
            "\t\t9-th bisection\n",
            "\t\t\tMRPS: 192\n",
            "\t\t\tAverage number of evaluations each bisection: 2376.0\n",
            "\t\t10-th bisection\n",
            "\t\t\tMRPS: 544\n",
            "\t\t\tAverage number of evaluations each bisection: 30409.6\n",
            "\t\tMean MRPS: 451.2\n",
            "\t\tStd MRPS: 102.65\n",
            "\t\tMean number of evaluations: 25208.8\n",
            "\t\tStd number of evaluations: 8987.0\n",
            "\n",
            "\t- Problem size = 20\n",
            "\t\t1-th bisection\n",
            "\t\t\tMRPS: 5120\n",
            "\t\t\tAverage number of evaluations each bisection: 437760.0\n",
            "\t\t2-th bisection\n",
            "\t\t\tMRPS: 3584\n",
            "\t\t\tAverage number of evaluations each bisection: 148650.67\n",
            "\t\t3-th bisection\n",
            "\t\t\tMRPS: 2048\n",
            "\t\t\tAverage number of evaluations each bisection: 62400.0\n",
            "\t\t4-th bisection\n",
            "\t\t\tMRPS: 4096\n",
            "\t\t\tAverage number of evaluations each bisection: 96000.0\n",
            "\t\t5-th bisection\n",
            "\t\t\tMRPS: 3584\n",
            "\t\t\tAverage number of evaluations each bisection: 218982.4\n",
            "\t\t6-th bisection\n",
            "\t\t\tMRPS: 2560\n",
            "\t\t\tAverage number of evaluations each bisection: 86016.0\n",
            "\t\t7-th bisection\n",
            "\t\t\tMRPS: 4352\n",
            "\t\t\tAverage number of evaluations each bisection: 522240.0\n",
            "\t\t8-th bisection\n",
            "\t\t\tMRPS: 3328\n",
            "\t\t\tAverage number of evaluations each bisection: 404352.0\n",
            "\t\t9-th bisection\n",
            "\t\t\tMRPS: 4352\n",
            "\t\t\tAverage number of evaluations each bisection: 537036.8\n",
            "\t\t10-th bisection\n",
            "\t\t\tMRPS: 6656\n",
            "\t\t\tAverage number of evaluations each bisection: 737484.8\n",
            "\t\tMean MRPS: 3968.0\n",
            "\t\tStd MRPS: 1234.39\n",
            "\t\tMean number of evaluations: 325092.0\n",
            "\t\tStd number of evaluations: 222231.78\n",
            "\n",
            "\t- Problem size = 40\n",
            "\t\t1-th bisection\n",
            "\t\t\tThis bisection cant be solved!\n",
            "\t\t2-th bisection\n",
            "\t\t\tThis bisection cant be solved!\n",
            "\t\t3-th bisection\n",
            "\t\t\tThis bisection cant be solved!\n",
            "\t\t4-th bisection\n",
            "\t\t\tThis bisection cant be solved!\n",
            "\t\t5-th bisection\n",
            "\t\t\tThis bisection cant be solved!\n",
            "\t\t6-th bisection\n",
            "\t\t\tThis bisection cant be solved!\n",
            "\t\t7-th bisection\n",
            "\t\t\tThis bisection cant be solved!\n",
            "\t\t8-th bisection\n",
            "\t\t\tThis bisection cant be solved!\n",
            "\t\t9-th bisection\n",
            "\t\t\tThis bisection cant be solved!\n",
            "\t\t10-th bisection\n",
            "\t\t\tThis bisection cant be solved!\n",
            "\tThis problem size cant be solved!\n",
            "\n",
            "\t- Problem size = 80\n",
            "\tThis problem size cant be solved!\n",
            "\n",
            "\t- Problem size = 160\n",
            "\tThis problem size cant be solved!\n",
            "\n",
            "\tSaving...\n",
            "\tSaved record!\n",
            "\n",
            "\n",
            "|-----------------------------------DONE-----------------------------------|\n"
          ]
        }
      ]
    },
    {
      "cell_type": "markdown",
      "metadata": {
        "id": "z-GQ2ah5bcrJ"
      },
      "source": [
        "# Đánh giá kết quả"
      ]
    },
    {
      "cell_type": "code",
      "metadata": {
        "colab": {
          "base_uri": "https://localhost:8080/"
        },
        "id": "AnXjQRF0Elb_",
        "outputId": "541884fb-5cb4-4dea-d42c-e971bd7a59bf"
      },
      "source": [
        "%cd /content/drive/MyDrive/Hoc_Tap/CS410_MangNeural/Bisection/"
      ],
      "execution_count": 37,
      "outputs": [
        {
          "output_type": "stream",
          "name": "stdout",
          "text": [
            "/content/drive/MyDrive/Hoc_Tap/CS410_MangNeural/Bisection\n"
          ]
        }
      ]
    },
    {
      "cell_type": "code",
      "metadata": {
        "id": "76WX2o8rajJV",
        "colab": {
          "base_uri": "https://localhost:8080/",
          "height": 359
        },
        "outputId": "dec9f46b-d5bd-46f0-e0ab-995335960e85"
      },
      "source": [
        "df_om = pd.read_csv('result_onemax.csv')\n",
        "df_om"
      ],
      "execution_count": 38,
      "outputs": [
        {
          "output_type": "execute_result",
          "data": {
            "text/html": [
              "<div>\n",
              "<style scoped>\n",
              "    .dataframe tbody tr th:only-of-type {\n",
              "        vertical-align: middle;\n",
              "    }\n",
              "\n",
              "    .dataframe tbody tr th {\n",
              "        vertical-align: top;\n",
              "    }\n",
              "\n",
              "    .dataframe thead th {\n",
              "        text-align: right;\n",
              "    }\n",
              "</style>\n",
              "<table border=\"1\" class=\"dataframe\">\n",
              "  <thead>\n",
              "    <tr style=\"text-align: right;\">\n",
              "      <th></th>\n",
              "      <th>Algorithm</th>\n",
              "      <th>Problem_size</th>\n",
              "      <th>Mean_MRPS</th>\n",
              "      <th>Std_MRPS</th>\n",
              "      <th>Mean_Evaluations</th>\n",
              "      <th>Std_Evaluations</th>\n",
              "    </tr>\n",
              "  </thead>\n",
              "  <tbody>\n",
              "    <tr>\n",
              "      <th>0</th>\n",
              "      <td>sGA-1X</td>\n",
              "      <td>10</td>\n",
              "      <td>33.6</td>\n",
              "      <td>6.31</td>\n",
              "      <td>1040.2</td>\n",
              "      <td>495.58</td>\n",
              "    </tr>\n",
              "    <tr>\n",
              "      <th>1</th>\n",
              "      <td>sGA-1X</td>\n",
              "      <td>20</td>\n",
              "      <td>76.4</td>\n",
              "      <td>14.36</td>\n",
              "      <td>3171.5</td>\n",
              "      <td>1152.42</td>\n",
              "    </tr>\n",
              "    <tr>\n",
              "      <th>2</th>\n",
              "      <td>sGA-1X</td>\n",
              "      <td>40</td>\n",
              "      <td>241.6</td>\n",
              "      <td>22.00</td>\n",
              "      <td>21309.1</td>\n",
              "      <td>3930.21</td>\n",
              "    </tr>\n",
              "    <tr>\n",
              "      <th>3</th>\n",
              "      <td>sGA-1X</td>\n",
              "      <td>80</td>\n",
              "      <td>774.4</td>\n",
              "      <td>195.07</td>\n",
              "      <td>77987.9</td>\n",
              "      <td>46140.44</td>\n",
              "    </tr>\n",
              "    <tr>\n",
              "      <th>4</th>\n",
              "      <td>sGA-1X</td>\n",
              "      <td>160</td>\n",
              "      <td>3635.2</td>\n",
              "      <td>1530.87</td>\n",
              "      <td>615620.6</td>\n",
              "      <td>404579.16</td>\n",
              "    </tr>\n",
              "    <tr>\n",
              "      <th>5</th>\n",
              "      <td>sGA-UX</td>\n",
              "      <td>10</td>\n",
              "      <td>20.2</td>\n",
              "      <td>3.28</td>\n",
              "      <td>526.3</td>\n",
              "      <td>306.65</td>\n",
              "    </tr>\n",
              "    <tr>\n",
              "      <th>6</th>\n",
              "      <td>sGA-UX</td>\n",
              "      <td>20</td>\n",
              "      <td>33.2</td>\n",
              "      <td>7.86</td>\n",
              "      <td>1348.1</td>\n",
              "      <td>749.05</td>\n",
              "    </tr>\n",
              "    <tr>\n",
              "      <th>7</th>\n",
              "      <td>sGA-UX</td>\n",
              "      <td>40</td>\n",
              "      <td>58.0</td>\n",
              "      <td>6.51</td>\n",
              "      <td>3645.4</td>\n",
              "      <td>1318.75</td>\n",
              "    </tr>\n",
              "    <tr>\n",
              "      <th>8</th>\n",
              "      <td>sGA-UX</td>\n",
              "      <td>80</td>\n",
              "      <td>93.6</td>\n",
              "      <td>7.20</td>\n",
              "      <td>8847.6</td>\n",
              "      <td>2308.14</td>\n",
              "    </tr>\n",
              "    <tr>\n",
              "      <th>9</th>\n",
              "      <td>sGA-UX</td>\n",
              "      <td>160</td>\n",
              "      <td>177.6</td>\n",
              "      <td>28.13</td>\n",
              "      <td>23049.4</td>\n",
              "      <td>10203.80</td>\n",
              "    </tr>\n",
              "  </tbody>\n",
              "</table>\n",
              "</div>"
            ],
            "text/plain": [
              "  Algorithm  Problem_size  ...  Mean_Evaluations  Std_Evaluations\n",
              "0    sGA-1X            10  ...            1040.2           495.58\n",
              "1    sGA-1X            20  ...            3171.5          1152.42\n",
              "2    sGA-1X            40  ...           21309.1          3930.21\n",
              "3    sGA-1X            80  ...           77987.9         46140.44\n",
              "4    sGA-1X           160  ...          615620.6        404579.16\n",
              "5    sGA-UX            10  ...             526.3           306.65\n",
              "6    sGA-UX            20  ...            1348.1           749.05\n",
              "7    sGA-UX            40  ...            3645.4          1318.75\n",
              "8    sGA-UX            80  ...            8847.6          2308.14\n",
              "9    sGA-UX           160  ...           23049.4         10203.80\n",
              "\n",
              "[10 rows x 6 columns]"
            ]
          },
          "metadata": {},
          "execution_count": 38
        }
      ]
    },
    {
      "cell_type": "code",
      "metadata": {
        "colab": {
          "base_uri": "https://localhost:8080/",
          "height": 359
        },
        "id": "C7awRzvryNXe",
        "outputId": "4893c9ff-5a24-4824-c334-8983934e579d"
      },
      "source": [
        "df_trap = pd.read_csv('result_trap5.csv')\n",
        "df_trap"
      ],
      "execution_count": 39,
      "outputs": [
        {
          "output_type": "execute_result",
          "data": {
            "text/html": [
              "<div>\n",
              "<style scoped>\n",
              "    .dataframe tbody tr th:only-of-type {\n",
              "        vertical-align: middle;\n",
              "    }\n",
              "\n",
              "    .dataframe tbody tr th {\n",
              "        vertical-align: top;\n",
              "    }\n",
              "\n",
              "    .dataframe thead th {\n",
              "        text-align: right;\n",
              "    }\n",
              "</style>\n",
              "<table border=\"1\" class=\"dataframe\">\n",
              "  <thead>\n",
              "    <tr style=\"text-align: right;\">\n",
              "      <th></th>\n",
              "      <th>Algorithm</th>\n",
              "      <th>Problem_size</th>\n",
              "      <th>Mean_MRPS</th>\n",
              "      <th>Std_MRPS</th>\n",
              "      <th>Mean_Evaluations</th>\n",
              "      <th>Std_Evaluations</th>\n",
              "    </tr>\n",
              "  </thead>\n",
              "  <tbody>\n",
              "    <tr>\n",
              "      <th>0</th>\n",
              "      <td>sGA-1X</td>\n",
              "      <td>10</td>\n",
              "      <td>108.8</td>\n",
              "      <td>27.06</td>\n",
              "      <td>3528.7</td>\n",
              "      <td>1581.66</td>\n",
              "    </tr>\n",
              "    <tr>\n",
              "      <th>1</th>\n",
              "      <td>sGA-1X</td>\n",
              "      <td>20</td>\n",
              "      <td>312.0</td>\n",
              "      <td>72.71</td>\n",
              "      <td>15948.7</td>\n",
              "      <td>8751.79</td>\n",
              "    </tr>\n",
              "    <tr>\n",
              "      <th>2</th>\n",
              "      <td>sGA-1X</td>\n",
              "      <td>40</td>\n",
              "      <td>800.0</td>\n",
              "      <td>125.58</td>\n",
              "      <td>71521.8</td>\n",
              "      <td>19004.00</td>\n",
              "    </tr>\n",
              "    <tr>\n",
              "      <th>3</th>\n",
              "      <td>sGA-1X</td>\n",
              "      <td>80</td>\n",
              "      <td>2828.8</td>\n",
              "      <td>711.41</td>\n",
              "      <td>338437.5</td>\n",
              "      <td>190286.25</td>\n",
              "    </tr>\n",
              "    <tr>\n",
              "      <th>4</th>\n",
              "      <td>sGA-1X</td>\n",
              "      <td>160</td>\n",
              "      <td>NaN</td>\n",
              "      <td>NaN</td>\n",
              "      <td>NaN</td>\n",
              "      <td>NaN</td>\n",
              "    </tr>\n",
              "    <tr>\n",
              "      <th>5</th>\n",
              "      <td>sGA-UX</td>\n",
              "      <td>10</td>\n",
              "      <td>451.2</td>\n",
              "      <td>102.65</td>\n",
              "      <td>25208.8</td>\n",
              "      <td>8987.00</td>\n",
              "    </tr>\n",
              "    <tr>\n",
              "      <th>6</th>\n",
              "      <td>sGA-UX</td>\n",
              "      <td>20</td>\n",
              "      <td>3968.0</td>\n",
              "      <td>1234.39</td>\n",
              "      <td>325092.0</td>\n",
              "      <td>222231.78</td>\n",
              "    </tr>\n",
              "    <tr>\n",
              "      <th>7</th>\n",
              "      <td>sGA-UX</td>\n",
              "      <td>40</td>\n",
              "      <td>NaN</td>\n",
              "      <td>NaN</td>\n",
              "      <td>NaN</td>\n",
              "      <td>NaN</td>\n",
              "    </tr>\n",
              "    <tr>\n",
              "      <th>8</th>\n",
              "      <td>sGA-UX</td>\n",
              "      <td>80</td>\n",
              "      <td>NaN</td>\n",
              "      <td>NaN</td>\n",
              "      <td>NaN</td>\n",
              "      <td>NaN</td>\n",
              "    </tr>\n",
              "    <tr>\n",
              "      <th>9</th>\n",
              "      <td>sGA-UX</td>\n",
              "      <td>160</td>\n",
              "      <td>NaN</td>\n",
              "      <td>NaN</td>\n",
              "      <td>NaN</td>\n",
              "      <td>NaN</td>\n",
              "    </tr>\n",
              "  </tbody>\n",
              "</table>\n",
              "</div>"
            ],
            "text/plain": [
              "  Algorithm  Problem_size  ...  Mean_Evaluations  Std_Evaluations\n",
              "0    sGA-1X            10  ...            3528.7          1581.66\n",
              "1    sGA-1X            20  ...           15948.7          8751.79\n",
              "2    sGA-1X            40  ...           71521.8         19004.00\n",
              "3    sGA-1X            80  ...          338437.5        190286.25\n",
              "4    sGA-1X           160  ...               NaN              NaN\n",
              "5    sGA-UX            10  ...           25208.8          8987.00\n",
              "6    sGA-UX            20  ...          325092.0        222231.78\n",
              "7    sGA-UX            40  ...               NaN              NaN\n",
              "8    sGA-UX            80  ...               NaN              NaN\n",
              "9    sGA-UX           160  ...               NaN              NaN\n",
              "\n",
              "[10 rows x 6 columns]"
            ]
          },
          "metadata": {},
          "execution_count": 39
        }
      ]
    },
    {
      "cell_type": "markdown",
      "metadata": {
        "id": "ZuF5C7mdyli7"
      },
      "source": [
        "## Vẽ biểu đồ so sánh kết quả MRPS của phép lai một điểm (1x) với phép lai đồng nhất (UX) cho OneMax"
      ]
    },
    {
      "cell_type": "code",
      "metadata": {
        "id": "6WOEEhiyeHIE"
      },
      "source": [
        "MRPS_om_1X = np.array(df_om[df_om['Algorithm'] == 'sGA-1X'].Mean_MRPS)\n",
        "MRPS_om_UX = np.array(df_om[df_om['Algorithm'] == 'sGA-UX'].Mean_MRPS)\n",
        "probSize_om_1X = np.array(df_om[df_om['Algorithm'] == 'sGA-1X'].Problem_size)"
      ],
      "execution_count": 6,
      "outputs": []
    },
    {
      "cell_type": "code",
      "metadata": {
        "id": "U9ca64XuoYeJ"
      },
      "source": [
        "std_MRPS_om_1X = np.array(df_om[df_om['Algorithm'] == 'sGA-1X'].Std_MRPS)\n",
        "std_MRPS_om_UX = np.array(df_om[df_om['Algorithm'] == 'sGA-UX'].Std_MRPS)"
      ],
      "execution_count": 7,
      "outputs": []
    },
    {
      "cell_type": "code",
      "metadata": {
        "colab": {
          "base_uri": "https://localhost:8080/"
        },
        "id": "9qfg9HIKSg28",
        "outputId": "6897db39-5473-4ab6-8e8f-56fa4a42311a"
      },
      "source": [
        "print(MRPS_om_1X)\n",
        "print(MRPS_om_UX)\n",
        "print(probSize_om_1X)\n",
        "print(std_MRPS_om_1X)\n",
        "print(std_MRPS_om_UX)"
      ],
      "execution_count": 8,
      "outputs": [
        {
          "output_type": "stream",
          "name": "stdout",
          "text": [
            "[  33.6   76.4  241.6  774.4 3635.2]\n",
            "[ 20.2  33.2  58.   93.6 177.6]\n",
            "[ 10  20  40  80 160]\n",
            "[   6.31   14.36   22.    195.07 1530.87]\n",
            "[ 3.28  7.86  6.51  7.2  28.13]\n"
          ]
        }
      ]
    },
    {
      "cell_type": "code",
      "metadata": {
        "colab": {
          "base_uri": "https://localhost:8080/",
          "height": 625
        },
        "id": "3vYr3RV3y9Pa",
        "outputId": "96ab2a23-c38a-40d9-e257-26af162070d3"
      },
      "source": [
        "plt.figure(figsize=(15,10))\n",
        "plt.plot(probSize_om_1X, MRPS_om_1X, 'b', label='OneMax_1X', marker='o')\n",
        "plt.plot(probSize_om_1X, MRPS_om_UX, 'r', label='OneMax_UX', marker='o')\n",
        "plt.fill_between(probSize_om_1X, MRPS_om_1X-std_MRPS_om_1X, MRPS_om_1X+std_MRPS_om_1X, facecolor=(0,0,1,0.3))\n",
        "plt.fill_between(probSize_om_1X, MRPS_om_UX-std_MRPS_om_UX, MRPS_om_UX+std_MRPS_om_UX, facecolor=(1,0,0,0.3))\n",
        "plt.xscale('log')\n",
        "plt.yscale('log')\n",
        "# plt.autoscale(True)\n",
        "plt.xlabel('Problem Size')\n",
        "plt.ylabel('MRPS')\n",
        "plt.title('Simple Genetic Algorithm with OneMax ')\n",
        "plt.legend()\n",
        "plt.savefig('MRPS_OneMax.png')\n",
        "plt.show()"
      ],
      "execution_count": 32,
      "outputs": [
        {
          "output_type": "display_data",
          "data": {
            "image/png": "[encoded data removed]",
            "text/plain": [
              "<Figure size 1080x720 with 1 Axes>"
            ]
          },
          "metadata": {
            "needs_background": "light"
          }
        }
      ]
    },
    {
      "cell_type": "markdown",
      "metadata": {
        "id": "SgC4UD6blxPE"
      },
      "source": [
        "## Vẽ biểu đồ so sánh kết quả Number of Evaluations của phép lai một điểm (1x) với phép lai đồng nhất (UX) cho OneMax"
      ]
    },
    {
      "cell_type": "code",
      "metadata": {
        "id": "yGTuVnLBfUTa"
      },
      "source": [
        "Eva_om_1X = np.array(df_om[df_om['Algorithm'] == 'sGA-1X'].Mean_Evaluations)\n",
        "Eva_om_UX = np.array(df_om[df_om['Algorithm'] == 'sGA-UX'].Mean_Evaluations)\n",
        "probSize_om_1X = np.array(df_om[df_om['Algorithm'] == 'sGA-1X'].Problem_size)"
      ],
      "execution_count": 40,
      "outputs": []
    },
    {
      "cell_type": "code",
      "metadata": {
        "id": "zy9sLJzOr3Es"
      },
      "source": [
        "std_Eva_om_1X = np.array(df_om[df_om['Algorithm'] == 'sGA-1X'].Std_Evaluations)\n",
        "std_Eva_om_UX = np.array(df_om[df_om['Algorithm'] == 'sGA-UX'].Std_Evaluations)"
      ],
      "execution_count": 41,
      "outputs": []
    },
    {
      "cell_type": "code",
      "metadata": {
        "colab": {
          "base_uri": "https://localhost:8080/"
        },
        "id": "MCRBjAMImAOt",
        "outputId": "1c00d4c7-1e91-47ca-c999-8846b2b9859c"
      },
      "source": [
        "print(Eva_om_1X)\n",
        "print(Eva_om_UX)\n",
        "print(std_Eva_om_1X)\n",
        "print(std_Eva_om_UX)\n",
        "print(probSize_om_1X)"
      ],
      "execution_count": 42,
      "outputs": [
        {
          "output_type": "stream",
          "name": "stdout",
          "text": [
            "[  1040.2   3171.5  21309.1  77987.9 615620.6]\n",
            "[  526.3  1348.1  3645.4  8847.6 23049.4]\n",
            "[   495.58   1152.42   3930.21  46140.44 404579.16]\n",
            "[  306.65   749.05  1318.75  2308.14 10203.8 ]\n",
            "[ 10  20  40  80 160]\n"
          ]
        }
      ]
    },
    {
      "cell_type": "code",
      "metadata": {
        "colab": {
          "base_uri": "https://localhost:8080/",
          "height": 625
        },
        "id": "-246qq2amIUE",
        "outputId": "6ce14c2a-15a3-46e9-99dd-81b9ab0932f2"
      },
      "source": [
        "plt.figure(figsize=(15,10))\n",
        "plt.plot(probSize_om_1X, Eva_om_1X, 'b', label='OneMax_1X', marker='o')\n",
        "plt.plot(probSize_om_1X, Eva_om_UX, 'r', label='OneMax_UX', marker='o')\n",
        "plt.fill_between(probSize_om_1X, Eva_om_1X-std_Eva_om_1X, Eva_om_1X+std_Eva_om_1X, facecolor=(0,0,1,0.3))\n",
        "plt.fill_between(probSize_om_1X, Eva_om_UX-std_Eva_om_UX, Eva_om_UX+std_Eva_om_UX, facecolor=(1,0,0,0.3))\n",
        "plt.xscale('log')\n",
        "plt.yscale('log')\n",
        "plt.xlabel('Problem Size')\n",
        "plt.ylabel('Number of Evaluations')\n",
        "plt.title('Simple Genetic Algorithm with OneMax ')\n",
        "plt.legend()\n",
        "plt.savefig('Evaluations_OneMax.png')\n",
        "plt.show()"
      ],
      "execution_count": 43,
      "outputs": [
        {
          "output_type": "display_data",
          "data": {
            "image/png": "[encoded data removed]",
            "text/plain": [
              "<Figure size 1080x720 with 1 Axes>"
            ]
          },
          "metadata": {
            "needs_background": "light"
          }
        }
      ]
    },
    {
      "cell_type": "markdown",
      "metadata": {
        "id": "lpXc0XkwmjqF"
      },
      "source": [
        "## Vẽ biểu đồ so sánh kết quả MRPS của phép lai một điểm (1x) với phép lai đồng nhất (UX) cho Trap-5"
      ]
    },
    {
      "cell_type": "code",
      "metadata": {
        "id": "EemEkp6wmd6S"
      },
      "source": [
        "MRPS_trap_1X = np.array(df_trap[df_trap['Algorithm'] == 'sGA-1X'].Mean_MRPS)\n",
        "MRPS_trap_UX = np.array(df_trap[df_trap['Algorithm'] == 'sGA-UX'].Mean_MRPS)\n",
        "probSize_trap_1X = np.array(df_trap[df_trap['Algorithm'] == 'sGA-1X'].Problem_size)"
      ],
      "execution_count": 15,
      "outputs": []
    },
    {
      "cell_type": "code",
      "metadata": {
        "id": "u7G3oExUsxMp"
      },
      "source": [
        "std_MRPS_trap_1X = np.array(df_trap[df_trap['Algorithm'] == 'sGA-1X'].Std_MRPS)\n",
        "std_MRPS_trap_UX = np.array(df_trap[df_trap['Algorithm'] == 'sGA-UX'].Std_MRPS)"
      ],
      "execution_count": 16,
      "outputs": []
    },
    {
      "cell_type": "code",
      "metadata": {
        "colab": {
          "base_uri": "https://localhost:8080/"
        },
        "id": "nXHuVGfFm2HR",
        "outputId": "7c9eed37-ac7a-47de-e422-8c2a0252fd32"
      },
      "source": [
        "print(MRPS_trap_1X)\n",
        "print(MRPS_trap_UX)\n",
        "print(std_MRPS_trap_1X)\n",
        "print(std_MRPS_trap_UX)\n",
        "print(probSize_trap_1X)"
      ],
      "execution_count": 17,
      "outputs": [
        {
          "output_type": "stream",
          "name": "stdout",
          "text": [
            "[ 108.8  312.   800.  2828.8    nan]\n",
            "[ 451.2 3968.     nan    nan    nan]\n",
            "[ 27.06  72.71 125.58 711.41    nan]\n",
            "[ 102.65 1234.39     nan     nan     nan]\n",
            "[ 10  20  40  80 160]\n"
          ]
        }
      ]
    },
    {
      "cell_type": "code",
      "metadata": {
        "colab": {
          "base_uri": "https://localhost:8080/",
          "height": 625
        },
        "id": "NaV7zzDum7m2",
        "outputId": "25c6baf8-142a-4c40-a292-f63962d4d21c"
      },
      "source": [
        "plt.figure(figsize=(15,10))\n",
        "plt.plot(probSize_trap_1X, MRPS_trap_1X, 'b', label='Trap_1X', marker='o')\n",
        "plt.plot(probSize_trap_1X, MRPS_trap_UX, 'r', label='Trap_UX', marker='o')\n",
        "plt.fill_between(probSize_trap_1X, MRPS_trap_1X-std_MRPS_trap_1X, MRPS_trap_1X+std_MRPS_trap_1X, facecolor=(0,0,1,0.3))\n",
        "plt.fill_between(probSize_trap_1X, MRPS_trap_UX-std_MRPS_trap_UX, MRPS_trap_UX+std_MRPS_trap_UX, facecolor=(1,0,0,0.3))\n",
        "plt.xscale('log')\n",
        "plt.yscale('log')\n",
        "plt.xlabel('Problem Size')\n",
        "plt.ylabel('MRPS')\n",
        "plt.title('Simple Genetic Algorithm with Trap-5 ')\n",
        "plt.legend()\n",
        "plt.savefig('MRPS_Trap5.png')\n",
        "plt.show()"
      ],
      "execution_count": 34,
      "outputs": [
        {
          "output_type": "display_data",
          "data": {
            "image/png": "[encoded data removed]",
            "text/plain": [
              "<Figure size 1080x720 with 1 Axes>"
            ]
          },
          "metadata": {
            "needs_background": "light"
          }
        }
      ]
    },
    {
      "cell_type": "markdown",
      "metadata": {
        "id": "RRNrmLPmnP4c"
      },
      "source": [
        "## Vẽ biểu đồ so sánh kết quả Number of Evaluations của phép lai một điểm (1x) với phép lai đồng nhất (UX) cho Trap-5"
      ]
    },
    {
      "cell_type": "code",
      "metadata": {
        "id": "vCXf0V8knItL"
      },
      "source": [
        "Eva_trap_1X = np.array(df_trap[df_trap['Algorithm'] == 'sGA-1X'].Mean_Evaluations)\n",
        "Eva_trap_UX = np.array(df_trap[df_trap['Algorithm'] == 'sGA-UX'].Mean_Evaluations)\n",
        "probSize_trap_1X = np.array(df_trap[df_trap['Algorithm'] == 'sGA-1X'].Problem_size)"
      ],
      "execution_count": 19,
      "outputs": []
    },
    {
      "cell_type": "code",
      "metadata": {
        "id": "TKaV_9XGs60A"
      },
      "source": [
        "std_Eva_trap_1X = np.array(df_trap[df_trap['Algorithm'] == 'sGA-1X'].Std_Evaluations)\n",
        "std_Eva_trap_UX = np.array(df_trap[df_trap['Algorithm'] == 'sGA-UX'].Std_Evaluations)"
      ],
      "execution_count": 20,
      "outputs": []
    },
    {
      "cell_type": "code",
      "metadata": {
        "colab": {
          "base_uri": "https://localhost:8080/"
        },
        "id": "xf3vjpioncTY",
        "outputId": "54148cd9-4953-4b1a-d0e1-d57d9bf25738"
      },
      "source": [
        "print(Eva_trap_1X)\n",
        "print(Eva_trap_UX)\n",
        "print(std_Eva_trap_1X)\n",
        "print(std_Eva_trap_UX)\n",
        "print(probSize_trap_1X)"
      ],
      "execution_count": 21,
      "outputs": [
        {
          "output_type": "stream",
          "name": "stdout",
          "text": [
            "[  3528.7  15948.7  71521.8 338437.5      nan]\n",
            "[ 25208.8 325092.       nan      nan      nan]\n",
            "[  1581.66   8751.79  19004.   190286.25       nan]\n",
            "[  8987.   222231.78       nan       nan       nan]\n",
            "[ 10  20  40  80 160]\n"
          ]
        }
      ]
    },
    {
      "cell_type": "code",
      "metadata": {
        "colab": {
          "base_uri": "https://localhost:8080/",
          "height": 625
        },
        "id": "xXNvmbRfnfVV",
        "outputId": "a5490159-ca5a-4994-8867-653ced08269e"
      },
      "source": [
        "plt.figure(figsize=(15,10))\n",
        "plt.plot(probSize_trap_1X, Eva_trap_1X, 'b', label='Trap_1X', marker='o')\n",
        "plt.plot(probSize_trap_1X, Eva_trap_UX, 'r', label='Trap_UX', marker='o')\n",
        "plt.fill_between(probSize_trap_1X, Eva_trap_1X-std_Eva_trap_1X, Eva_trap_1X+std_Eva_trap_1X, facecolor=(0,0,1,0.3))\n",
        "plt.fill_between(probSize_trap_1X, Eva_trap_UX-std_Eva_trap_UX, Eva_trap_UX+std_Eva_trap_UX, facecolor=(1,0,0,0.3))\n",
        "plt.xscale('log')\n",
        "plt.yscale('log')\n",
        "plt.xlabel('Problem Size')\n",
        "plt.ylabel('Number of Evaluations')\n",
        "plt.title('Simple Genetic Algorithm with Trap-5 ')\n",
        "plt.legend()\n",
        "plt.savefig('Evaluations_Trap5.png')\n",
        "plt.show()"
      ],
      "execution_count": 35,
      "outputs": [
        {
          "output_type": "display_data",
          "data": {
            "image/png": "[encoded data removed]",
            "text/plain": [
              "<Figure size 1080x720 with 1 Axes>"
            ]
          },
          "metadata": {
            "needs_background": "light"
          }
        }
      ]
    },
    {
      "cell_type": "code",
      "metadata": {
        "id": "H7a6_JL9njKX"
      },
      "source": [
        ""
      ],
      "execution_count": null,
      "outputs": []
    }
  ]
}